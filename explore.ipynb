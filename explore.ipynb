{
 "cells": [
  {
   "cell_type": "markdown",
   "id": "cd5a6ce1",
   "metadata": {},
   "source": [
    "# Exploration Lesson"
   ]
  },
  {
   "cell_type": "markdown",
   "id": "8d158141",
   "metadata": {},
   "source": [
    "What is it?\n",
    "- understand what features are driving the outcome\n",
    "- try to find patterns in the data\n",
    "\n",
    "Why do we care? \n",
    "- gain insights on our data \n",
    "- use knowledge to determine modeling\n",
    "- if we see patterns, maybe we can build clusters"
   ]
  },
  {
   "cell_type": "markdown",
   "id": "045d15f7",
   "metadata": {},
   "source": [
    "## Scenario\n",
    "We would like to be able to use attributes of mall customers to estimate their spending score. In doing so, we can target those customers that are likely to be most profitable for us. Our target variable is spending_score. Currently the only customer data we have available to use in this project is age, annual_income and gender. It is possible we may not have enough information to build a valuable model. If not, maybe we could do some unsupervised learning, and find clusters of similar customers using all of the variables (including spending_score) and that could help us with a starting point for our targeted marketing."
   ]
  },
  {
   "cell_type": "code",
   "execution_count": null,
   "id": "04d4b309",
   "metadata": {},
   "outputs": [],
   "source": [
    "#standard ds\n",
    "import pandas as pd\n",
    "import numpy as np\n",
    "\n",
    "#viz and stats\n",
    "import seaborn as sns\n",
    "import matplotlib.pyplot as plt\n",
    "from scipy import stats\n",
    "\n",
    "#splits, scale\n",
    "from sklearn.model_selection import train_test_split\n",
    "from sklearn.preprocessing import MinMaxScaler\n",
    "\n",
    "#my env file\n",
    "from env import get_db_url\n"
   ]
  },
  {
   "cell_type": "markdown",
   "id": "21e2d555",
   "metadata": {},
   "source": [
    "## Acquire"
   ]
  },
  {
   "cell_type": "code",
   "execution_count": null,
   "id": "eaad1ae8",
   "metadata": {},
   "outputs": [],
   "source": [
    "#get my data\n",
    "df = pd.read_sql('SELECT * FROM customers;', get_db_url('mall_customers'))\n",
    "df = df.set_index('customer_id')\n",
    "\n",
    "#see it\n",
    "df.head()"
   ]
  },
  {
   "cell_type": "code",
   "execution_count": null,
   "id": "e2d54cd2",
   "metadata": {},
   "outputs": [],
   "source": [
    "df.info()"
   ]
  },
  {
   "cell_type": "markdown",
   "id": "fee1e73d",
   "metadata": {},
   "source": [
    "## Prepare"
   ]
  },
  {
   "cell_type": "code",
   "execution_count": null,
   "id": "fec0a5c2",
   "metadata": {},
   "outputs": [],
   "source": [
    "def train_validate_test_split(df, target, seed=123):\n",
    "    '''\n",
    "    accepts dataframe and splits the data into train, validate and test \n",
    "    '''\n",
    "    train_validate, test = train_test_split(df, test_size=0.2, random_state=seed)\n",
    "    \n",
    "    train, validate = train_test_split(train_validate, test_size=0.25, random_state=seed)\n",
    "    return train, validate, test"
   ]
  },
  {
   "cell_type": "code",
   "execution_count": null,
   "id": "904efba4",
   "metadata": {},
   "outputs": [],
   "source": [
    "def scale_my_data(train, validate, test):\n",
    "    '''\n",
    "    scale my data using minmaxscaler and add it back to my input datasets\n",
    "    '''\n",
    "    scaler = MinMaxScaler()\n",
    "    scaler.fit(train[['age', 'annual_income']])\n",
    "    \n",
    "    X_train_scaled = scaler.transform(train[['age', 'annual_income']])\n",
    "    X_validate_scaled = scaler.transform(validate[['age', 'annual_income']])\n",
    "    X_test_scaled = scaler.transform(test[['age', 'annual_income']])\n",
    "\n",
    "    train[['age_scaled', 'annual_income_scaled']] = X_train_scaled\n",
    "    validate[['age_scaled', 'annual_income_scaled']] = X_validate_scaled\n",
    "    test[['age_scaled', 'annual_income_scaled']] = X_test_scaled\n",
    "    return train, validate, test"
   ]
  },
  {
   "cell_type": "code",
   "execution_count": null,
   "id": "2cd94284",
   "metadata": {},
   "outputs": [],
   "source": [
    "def prep_mall(df):\n",
    "    '''\n",
    "    dummy var for gender into is_male\n",
    "    split on target of 'spending_score'\n",
    "    scale age and annual income. \n",
    "    '''\n",
    "    df['is_male'] = pd.get_dummies(df['gender'], drop_first=True)['Male']\n",
    "    train, validate, test = train_validate_test_split(df, target='spending_score', seed=1349)\n",
    "    train, validate, test = scale_my_data(train, validate, test)\n",
    "    \n",
    "    print(f'df: {df.shape}')\n",
    "    print()\n",
    "    print(f'train: {train.shape}')\n",
    "    print(f'validate: {validate.shape}')\n",
    "    print(f'test: {test.shape}')\n",
    "    return df, train, validate, test"
   ]
  },
  {
   "cell_type": "code",
   "execution_count": null,
   "id": "bc7ae590",
   "metadata": {},
   "outputs": [],
   "source": [
    "#prep my data!\n",
    "df, train, validate, test = prep_mall(df)"
   ]
  },
  {
   "cell_type": "code",
   "execution_count": null,
   "id": "81d2ca81",
   "metadata": {},
   "outputs": [],
   "source": [
    "train.head()"
   ]
  },
  {
   "cell_type": "markdown",
   "id": "544fe28f",
   "metadata": {},
   "source": [
    "## Explore"
   ]
  },
  {
   "cell_type": "code",
   "execution_count": null,
   "id": "52269aa7",
   "metadata": {},
   "outputs": [],
   "source": [
    "#distribution of all my variables\n",
    "plt.figure(figsize=(14,4))\n",
    "\n",
    "for i, col in enumerate(train.columns[:-3]):\n",
    "    plt.subplot(1,len(train.columns[:-3]),i+1)\n",
    "    plt.hist(train[col])\n",
    "    plt.title(col)"
   ]
  },
  {
   "cell_type": "markdown",
   "id": "d97d091d",
   "metadata": {},
   "source": [
    "**Takeaways**\n",
    "- ?"
   ]
  },
  {
   "cell_type": "markdown",
   "id": "ae0834d8",
   "metadata": {},
   "source": [
    "## If you don't know where to start, start with pairplot"
   ]
  },
  {
   "cell_type": "code",
   "execution_count": null,
   "id": "25a21298",
   "metadata": {},
   "outputs": [],
   "source": [
    "#only looking at my unprocessed data only\n",
    "sns.pairplot(train[['gender', 'age', 'annual_income', 'spending_score']], \n",
    "             corner=True\n",
    "            )\n",
    "plt.show()"
   ]
  },
  {
   "cell_type": "markdown",
   "id": "ba711fef",
   "metadata": {},
   "source": [
    "**Takeaways**\n",
    "- ?"
   ]
  },
  {
   "cell_type": "markdown",
   "id": "6ea7803b",
   "metadata": {},
   "source": [
    "## Q. Does the spending score differ across gender?"
   ]
  },
  {
   "cell_type": "markdown",
   "id": "039acc0e",
   "metadata": {},
   "source": [
    "what kind of variables do i have?\n",
    "- gender:\n",
    "- spending_score: \n",
    "\n",
    "what types of plots can i use?\n",
    "- ?\n",
    "\n",
    "what type of stats test should i use? \n",
    "- ?\n"
   ]
  },
  {
   "cell_type": "code",
   "execution_count": null,
   "id": "aa33f91f",
   "metadata": {},
   "outputs": [],
   "source": [
    "#visualize my variables\n",
    "sns.boxplot(data=train, x='gender', y='spending_score')\n",
    "plt.title('what is the relationship between gender and spending_score')\n",
    "plt.show()"
   ]
  },
  {
   "cell_type": "markdown",
   "id": "24b50d4f",
   "metadata": {},
   "source": [
    "mann-whitley test\n",
    "- $H_0$: there is no difference in spending scores between genders\n",
    "- $H_a$: there is a difference in spending scores between genders\n",
    "\n",
    "alpha = 0.05"
   ]
  },
  {
   "cell_type": "code",
   "execution_count": null,
   "id": "f096c0a6",
   "metadata": {},
   "outputs": [],
   "source": [
    "#verify with stats\n",
    "stats.mannwhitneyu(train[train.gender=='Male'].spending_score, \n",
    "                   train[train.gender=='Female'].spending_score)"
   ]
  },
  {
   "cell_type": "markdown",
   "id": "03de1bf7",
   "metadata": {},
   "source": [
    "result:"
   ]
  },
  {
   "cell_type": "markdown",
   "id": "4ddbb67a",
   "metadata": {},
   "source": [
    "**Takeaways**\n",
    "- ?"
   ]
  },
  {
   "cell_type": "markdown",
   "id": "6ee727c7",
   "metadata": {},
   "source": [
    "## Q. Is there a relationship between spending score and annual income?\n"
   ]
  },
  {
   "cell_type": "markdown",
   "id": "7ee1cb8f",
   "metadata": {},
   "source": [
    "what kind of variables do i have?\n",
    "- annual income:\n",
    "- spending score: \n",
    "\n",
    "what types of plots can i use?\n",
    "- ?\n",
    "\n",
    "what type of stats test should i use? \n",
    "- ?"
   ]
  },
  {
   "cell_type": "code",
   "execution_count": null,
   "id": "b615a22b",
   "metadata": {},
   "outputs": [],
   "source": [
    "#visualize my variables\n",
    "sns.scatterplot(data=train, x='annual_income', y='spending_score')\n",
    "plt.title('what is the relationship between annual income and spending score?')\n",
    "plt.show()"
   ]
  },
  {
   "cell_type": "markdown",
   "id": "f5f80ef9",
   "metadata": {},
   "source": [
    "Spearman R\n",
    "- $H_0$: there is no linear correlation between annual income and spending score\n",
    "- $H_a$: there is linear correlation between annual income and spending score"
   ]
  },
  {
   "cell_type": "code",
   "execution_count": null,
   "id": "1b74974a",
   "metadata": {},
   "outputs": [],
   "source": [
    "#verify it with stats\n",
    "stats.spearmanr(train.annual_income, train.spending_score)"
   ]
  },
  {
   "cell_type": "markdown",
   "id": "5cee7d2b",
   "metadata": {},
   "source": [
    "result: "
   ]
  },
  {
   "cell_type": "markdown",
   "id": "5d235db0",
   "metadata": {},
   "source": [
    "**Takeaways**\n",
    "- ?"
   ]
  },
  {
   "cell_type": "markdown",
   "id": "0d94a129",
   "metadata": {},
   "source": [
    "## Q. Is there a relationship between age and spending score? "
   ]
  },
  {
   "cell_type": "markdown",
   "id": "9a853a6c",
   "metadata": {},
   "source": [
    "what kind of variables do i have?\n",
    "- age:\n",
    "- spending_score: \n",
    "\n",
    "what types of plots can i use?\n",
    "- ?\n",
    "\n",
    "what type of stats test should i use? \n",
    "- ?"
   ]
  },
  {
   "cell_type": "code",
   "execution_count": null,
   "id": "3a6a988a",
   "metadata": {},
   "outputs": [],
   "source": [
    "#visualize my variables\n",
    "sns.scatterplot(data=train, x='age', y='spending_score', )\n",
    "plt.title('what is the relationship between age and spending score?')\n",
    "plt.show()"
   ]
  },
  {
   "cell_type": "markdown",
   "id": "7e96b483",
   "metadata": {},
   "source": [
    "thoughts:"
   ]
  },
  {
   "cell_type": "markdown",
   "id": "92f6cbf6",
   "metadata": {},
   "source": [
    "#### create a bin for age"
   ]
  },
  {
   "cell_type": "code",
   "execution_count": null,
   "id": "f5a2abaa",
   "metadata": {},
   "outputs": [],
   "source": [
    "#make new age_bin column\n",
    "train['age_bins'] = pd.cut(\n",
    "                    train.age, #column to bin\n",
    "                    [0,40,80], #the bins including the starting and ending point\n",
    "                    labels=['40_and_under', 'over_40'] #labels for my bins\n",
    "                )"
   ]
  },
  {
   "cell_type": "code",
   "execution_count": null,
   "id": "43da128a",
   "metadata": {},
   "outputs": [],
   "source": [
    "#look at it!\n",
    "train.head()"
   ]
  },
  {
   "cell_type": "code",
   "execution_count": null,
   "id": "f9caa09a",
   "metadata": {},
   "outputs": [],
   "source": [
    "#distribution\n",
    "train.age_bins.value_counts()"
   ]
  },
  {
   "cell_type": "code",
   "execution_count": null,
   "id": "dfdc2d8f",
   "metadata": {},
   "outputs": [],
   "source": [
    "#type of new column\n",
    "train.dtypes"
   ]
  },
  {
   "cell_type": "markdown",
   "id": "a9423f16",
   "metadata": {},
   "source": [
    "#### dive into my new variable"
   ]
  },
  {
   "cell_type": "markdown",
   "id": "354ceb1e",
   "metadata": {},
   "source": [
    "what kind of variables do i have?\n",
    "- age_bins:\n",
    "- spending_score: \n",
    "\n",
    "what types of plots can i use?\n",
    "- ?\n",
    "\n",
    "what type of stats test should i use? \n",
    "- ?"
   ]
  },
  {
   "cell_type": "code",
   "execution_count": null,
   "id": "73caf594",
   "metadata": {},
   "outputs": [],
   "source": [
    "#visualize my variable\n",
    "sns.boxplot(data=train, x='age_bins', y='spending_score')\n",
    "plt.title('relationship of spending score for people below and above 40')\n",
    "plt.show()"
   ]
  },
  {
   "cell_type": "code",
   "execution_count": null,
   "id": "b1ab19ed",
   "metadata": {},
   "outputs": [],
   "source": [
    "#check for equal variances \n",
    "stats.levene(train.spending_score[train.age_bins == '40_and_under'],\n",
    "             train.spending_score[train.age_bins == 'over_40'],)"
   ]
  },
  {
   "cell_type": "code",
   "execution_count": null,
   "id": "2468f9e9",
   "metadata": {},
   "outputs": [],
   "source": [
    "#verify with a stats test\n",
    "stats.ttest_ind(train.spending_score[train.age_bins == '40_and_under'],\n",
    "                train.spending_score[train.age_bins == 'over_40'],\n",
    "                equal_var=False)"
   ]
  },
  {
   "cell_type": "markdown",
   "id": "5c99d6ba",
   "metadata": {},
   "source": [
    "result: "
   ]
  },
  {
   "cell_type": "markdown",
   "id": "3faf589c",
   "metadata": {},
   "source": [
    "**Takeaways**\n",
    "- ?"
   ]
  },
  {
   "cell_type": "markdown",
   "id": "90300e65",
   "metadata": {},
   "source": [
    "## Q. If we control for age, does spending score differ across annual income?"
   ]
  },
  {
   "cell_type": "markdown",
   "id": "c7b8d20f",
   "metadata": {},
   "source": [
    "what kind of variables do i have?\n",
    "- age_bins:\n",
    "- annual_income: \n",
    "- spending_score: \n",
    "\n",
    "what types of plots can i use?\n",
    "- ?\n",
    "\n",
    "what type of stats test should i use? \n",
    "- ?"
   ]
  },
  {
   "cell_type": "code",
   "execution_count": null,
   "id": "21ffd941",
   "metadata": {},
   "outputs": [],
   "source": [
    "#calculate my mean spending score\n",
    "ss_mean = train.spending_score.mean()\n",
    "ss_mean"
   ]
  },
  {
   "cell_type": "code",
   "execution_count": null,
   "id": "2c350489",
   "metadata": {},
   "outputs": [],
   "source": [
    "#visulize my variables\n",
    "sns.relplot(data=train, \n",
    "                x='annual_income', \n",
    "                y='spending_score', \n",
    "                col='age_bins'\n",
    "               )\n",
    "\n",
    "# plt.hlines(ss_mean,0,140)\n",
    "\n",
    "#cycle through each axes-level plot to add overall mean line\n",
    "# for ax in p.axes.flat:\n",
    "#     ax.hlines(ss_mean,0,140, ls=':')"
   ]
  },
  {
   "cell_type": "markdown",
   "id": "60b4cd94",
   "metadata": {},
   "source": [
    "thoughts:"
   ]
  },
  {
   "cell_type": "markdown",
   "id": "8723f39f",
   "metadata": {},
   "source": [
    "#### bin my under 40"
   ]
  },
  {
   "cell_type": "code",
   "execution_count": null,
   "id": "8e9bd5fc",
   "metadata": {},
   "outputs": [],
   "source": [
    "#see where to make my bin\n",
    "sns.histplot(train.age, bins=20)\n",
    "plt.show()"
   ]
  },
  {
   "cell_type": "markdown",
   "id": "369d32da",
   "metadata": {},
   "source": [
    "thoughts:"
   ]
  },
  {
   "cell_type": "code",
   "execution_count": null,
   "id": "78c4eb9b",
   "metadata": {},
   "outputs": [],
   "source": [
    "#visualize my variables\n",
    "sns.relplot(data=train, \n",
    "            x='annual_income', \n",
    "            y='spending_score',\n",
    "            s=100,\n",
    "            col=pd.cut(train.age,[0,30,40,80])\n",
    "           )\n",
    "\n",
    "plt.suptitle(\"Do the different decades account for the upper vs lower extremes?\")\n",
    "plt.tight_layout()\n",
    "plt.show()"
   ]
  },
  {
   "cell_type": "markdown",
   "id": "afb74351",
   "metadata": {},
   "source": [
    "thoughts:"
   ]
  },
  {
   "cell_type": "markdown",
   "id": "71307031",
   "metadata": {},
   "source": [
    "#### how does gender affect them?"
   ]
  },
  {
   "cell_type": "markdown",
   "id": "aaf80b0b",
   "metadata": {},
   "source": [
    "how do i add a fourth category to my plots?\n",
    "- ?"
   ]
  },
  {
   "cell_type": "code",
   "execution_count": null,
   "id": "1a287e3c",
   "metadata": {},
   "outputs": [],
   "source": [
    "#visualize my plots\n",
    "sns.relplot(data=train, \n",
    "            x='annual_income', \n",
    "            y='spending_score', \n",
    "            hue='gender',\n",
    "            s=100,\n",
    "            col=pd.cut(train.age,[0,30,40,80])\n",
    "           )\n",
    "\n",
    "plt.suptitle(\"Do the different decades account for the upper vs lower extremes?\")\n",
    "plt.tight_layout()\n",
    "plt.show()"
   ]
  },
  {
   "cell_type": "markdown",
   "id": "6c5d2f4b",
   "metadata": {},
   "source": [
    "**Takeaways:**\n",
    "- ?"
   ]
  },
  {
   "cell_type": "markdown",
   "id": "432998e3",
   "metadata": {},
   "source": [
    "## Q. If we control for annual income, does spending score differ across age?"
   ]
  },
  {
   "cell_type": "markdown",
   "id": "3e2ca07f",
   "metadata": {},
   "source": [
    "Since I want to control for annual income, I need to bin it."
   ]
  },
  {
   "cell_type": "code",
   "execution_count": null,
   "id": "16cafd4a",
   "metadata": {},
   "outputs": [],
   "source": [
    "#look at it to figure out some bins\n",
    "train.annual_income.hist()\n",
    "plt.show()"
   ]
  },
  {
   "cell_type": "code",
   "execution_count": null,
   "id": "89a1937c",
   "metadata": {},
   "outputs": [],
   "source": [
    "#make the bins\n",
    "train['income_bins'] = pd.cut(train.annual_income, [0,50,140])\n",
    "train.head()"
   ]
  },
  {
   "cell_type": "code",
   "execution_count": null,
   "id": "5052bf82",
   "metadata": {},
   "outputs": [],
   "source": [
    "#visualize my variables\n",
    "sns.relplot(data=train, \n",
    "            x='age', \n",
    "            y='spending_score',\n",
    "            hue='income_bins'\n",
    "           )\n",
    "\n",
    "plt.title('how does age relate to spending_score when accounting for age')\n",
    "plt.show()"
   ]
  },
  {
   "cell_type": "markdown",
   "id": "d1286297",
   "metadata": {},
   "source": [
    "**Takeaways:**\n",
    "- ? "
   ]
  },
  {
   "cell_type": "markdown",
   "id": "92245171",
   "metadata": {},
   "source": [
    "## Explore Conclusion\n"
   ]
  },
  {
   "cell_type": "code",
   "execution_count": null,
   "id": "c1f4e611",
   "metadata": {},
   "outputs": [],
   "source": []
  }
 ],
 "metadata": {
  "kernelspec": {
   "display_name": "Python 3 (ipykernel)",
   "language": "python",
   "name": "python3"
  },
  "language_info": {
   "codemirror_mode": {
    "name": "ipython",
    "version": 3
   },
   "file_extension": ".py",
   "mimetype": "text/x-python",
   "name": "python",
   "nbconvert_exporter": "python",
   "pygments_lexer": "ipython3",
   "version": "3.9.12"
  }
 },
 "nbformat": 4,
 "nbformat_minor": 5
}
