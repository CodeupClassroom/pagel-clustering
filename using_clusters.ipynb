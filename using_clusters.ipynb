{
 "cells": [
  {
   "cell_type": "markdown",
   "id": "03add10c",
   "metadata": {},
   "source": [
    "# Using clusters"
   ]
  },
  {
   "cell_type": "markdown",
   "id": "848898f6",
   "metadata": {},
   "source": [
    "what is it?\n",
    "- now that we have made our clusters, how do we use them?\n",
    "\n",
    "what do we care? \n",
    "- to get some usefulness out of our unsupervised learning"
   ]
  },
  {
   "cell_type": "markdown",
   "id": "f366f6bf",
   "metadata": {},
   "source": [
    "## Clusters are about providing options and insight\n",
    "\n",
    "- Step 1: Explore the clusters\n",
    "- Step 2: Name the clusters\n",
    "- Step 3: \n",
    "    - Option 1: Dimensionality reduction\n",
    "    - Option 2: Treat cluster names as a new target variable\n",
    "    - Option 3: Perform deeper EDA\n",
    "    - Option 4: Make many models"
   ]
  },
  {
   "cell_type": "markdown",
   "id": "4c70e4d3",
   "metadata": {},
   "source": [
    "# Show us!"
   ]
  },
  {
   "cell_type": "markdown",
   "id": "e1c3b49e",
   "metadata": {},
   "source": [
    "Scenario: Analyzing our mall data and seeing how unsupervised learning can drive our data insights"
   ]
  },
  {
   "cell_type": "code",
   "execution_count": 1,
   "id": "e2965e5a",
   "metadata": {},
   "outputs": [],
   "source": [
    "#do the data things\n",
    "import pandas as pd\n",
    "import numpy as np\n",
    "\n",
    "#visualize & stastisize\n",
    "import seaborn as sns\n",
    "import matplotlib.pyplot as plt\n",
    "from scipy import stats\n",
    "\n",
    "#prepore and model\n",
    "from sklearn.model_selection import train_test_split\n",
    "from sklearn.preprocessing import MinMaxScaler\n",
    "from sklearn.cluster import KMeans\n",
    "\n",
    "#my creds\n",
    "from env import get_db_url"
   ]
  },
  {
   "cell_type": "markdown",
   "id": "9d791fc5",
   "metadata": {},
   "source": [
    "## Acquire"
   ]
  },
  {
   "cell_type": "code",
   "execution_count": 2,
   "id": "3918c276",
   "metadata": {},
   "outputs": [
    {
     "data": {
      "text/html": [
       "<div>\n",
       "<style scoped>\n",
       "    .dataframe tbody tr th:only-of-type {\n",
       "        vertical-align: middle;\n",
       "    }\n",
       "\n",
       "    .dataframe tbody tr th {\n",
       "        vertical-align: top;\n",
       "    }\n",
       "\n",
       "    .dataframe thead th {\n",
       "        text-align: right;\n",
       "    }\n",
       "</style>\n",
       "<table border=\"1\" class=\"dataframe\">\n",
       "  <thead>\n",
       "    <tr style=\"text-align: right;\">\n",
       "      <th></th>\n",
       "      <th>gender</th>\n",
       "      <th>age</th>\n",
       "      <th>annual_income</th>\n",
       "      <th>spending_score</th>\n",
       "    </tr>\n",
       "    <tr>\n",
       "      <th>customer_id</th>\n",
       "      <th></th>\n",
       "      <th></th>\n",
       "      <th></th>\n",
       "      <th></th>\n",
       "    </tr>\n",
       "  </thead>\n",
       "  <tbody>\n",
       "    <tr>\n",
       "      <th>1</th>\n",
       "      <td>Male</td>\n",
       "      <td>19</td>\n",
       "      <td>15</td>\n",
       "      <td>39</td>\n",
       "    </tr>\n",
       "    <tr>\n",
       "      <th>2</th>\n",
       "      <td>Male</td>\n",
       "      <td>21</td>\n",
       "      <td>15</td>\n",
       "      <td>81</td>\n",
       "    </tr>\n",
       "    <tr>\n",
       "      <th>3</th>\n",
       "      <td>Female</td>\n",
       "      <td>20</td>\n",
       "      <td>16</td>\n",
       "      <td>6</td>\n",
       "    </tr>\n",
       "    <tr>\n",
       "      <th>4</th>\n",
       "      <td>Female</td>\n",
       "      <td>23</td>\n",
       "      <td>16</td>\n",
       "      <td>77</td>\n",
       "    </tr>\n",
       "    <tr>\n",
       "      <th>5</th>\n",
       "      <td>Female</td>\n",
       "      <td>31</td>\n",
       "      <td>17</td>\n",
       "      <td>40</td>\n",
       "    </tr>\n",
       "  </tbody>\n",
       "</table>\n",
       "</div>"
      ],
      "text/plain": [
       "             gender  age  annual_income  spending_score\n",
       "customer_id                                            \n",
       "1              Male   19             15              39\n",
       "2              Male   21             15              81\n",
       "3            Female   20             16               6\n",
       "4            Female   23             16              77\n",
       "5            Female   31             17              40"
      ]
     },
     "execution_count": 2,
     "metadata": {},
     "output_type": "execute_result"
    }
   ],
   "source": [
    "#get my data\n",
    "df = pd.read_sql('SELECT * FROM customers;', get_db_url('mall_customers'))\n",
    "df = df.set_index('customer_id')\n",
    "\n",
    "#see it\n",
    "df.head()"
   ]
  },
  {
   "cell_type": "code",
   "execution_count": 3,
   "id": "5749c889",
   "metadata": {},
   "outputs": [
    {
     "name": "stdout",
     "output_type": "stream",
     "text": [
      "<class 'pandas.core.frame.DataFrame'>\n",
      "Int64Index: 200 entries, 1 to 200\n",
      "Data columns (total 4 columns):\n",
      " #   Column          Non-Null Count  Dtype \n",
      "---  ------          --------------  ----- \n",
      " 0   gender          200 non-null    object\n",
      " 1   age             200 non-null    int64 \n",
      " 2   annual_income   200 non-null    int64 \n",
      " 3   spending_score  200 non-null    int64 \n",
      "dtypes: int64(3), object(1)\n",
      "memory usage: 7.8+ KB\n"
     ]
    }
   ],
   "source": [
    "df.info()"
   ]
  },
  {
   "cell_type": "markdown",
   "id": "0bf8c44f",
   "metadata": {},
   "source": [
    "## Prepare"
   ]
  },
  {
   "cell_type": "markdown",
   "id": "8bce0667",
   "metadata": {},
   "source": [
    "Since my dataset was so small, I made my validate and test dataframes smaller than normal\n",
    "- this is probably too small to be utilized in the real world\n",
    "- the tiny validate and test are just to show the steps of working through a split df"
   ]
  },
  {
   "cell_type": "code",
   "execution_count": 5,
   "id": "15cc865f",
   "metadata": {},
   "outputs": [],
   "source": [
    "def train_validate_test_split(df, seed=123):\n",
    "    '''\n",
    "    accepts dataframe and splits the data into train, validate and test \n",
    "    '''\n",
    "    train_validate, test = train_test_split(df, test_size=0.05, random_state=seed)\n",
    "    train, validate = train_test_split(train_validate, test_size=0.05, random_state=seed)\n",
    "    return train, validate, test"
   ]
  },
  {
   "cell_type": "code",
   "execution_count": 6,
   "id": "32fd5dcf",
   "metadata": {},
   "outputs": [],
   "source": [
    "def scale_my_data(train, validate, test, features):\n",
    "    '''\n",
    "    scale my data using minmaxscaler, input the features to scale\n",
    "    '''\n",
    "    scaler = MinMaxScaler()\n",
    "    scaler.fit(train[features])\n",
    "    \n",
    "    train_scaled = scaler.transform(train[features])\n",
    "    validate_scaled = scaler.transform(validate[features])\n",
    "    test_scaled = scaler.transform(test[features])\n",
    "\n",
    "    train_scaled = pd.DataFrame(train_scaled, index=train.index, columns=features)\n",
    "    validate_scaled = pd.DataFrame(validate_scaled, index=validate.index, columns=features)\n",
    "    test_scaled = pd.DataFrame(test_scaled, index=test.index, columns=features)\n",
    "    \n",
    "    return train_scaled, validate_scaled, test_scaled"
   ]
  },
  {
   "cell_type": "code",
   "execution_count": 7,
   "id": "9d7b01f3",
   "metadata": {},
   "outputs": [],
   "source": [
    "def prep_mall(df):\n",
    "    '''\n",
    "    dummy var for gender into is_male\n",
    "    split on target of 'spending_score'\n",
    "    scale age and annual income. \n",
    "    '''\n",
    "    df['is_male'] = pd.get_dummies(df['gender'], drop_first=True)['Male']\n",
    "    train, validate, test = train_validate_test_split(df)\n",
    "    \n",
    "    print(f'df: {df.shape}')\n",
    "    print()\n",
    "    print(f'train: {train.shape}')\n",
    "    print(f'validate: {validate.shape}')\n",
    "    print(f'test: {test.shape}')\n",
    "    return train, validate, test"
   ]
  },
  {
   "cell_type": "code",
   "execution_count": 8,
   "id": "8786ee06",
   "metadata": {},
   "outputs": [
    {
     "name": "stdout",
     "output_type": "stream",
     "text": [
      "df: (200, 5)\n",
      "\n",
      "train: (180, 5)\n",
      "validate: (10, 5)\n",
      "test: (10, 5)\n"
     ]
    }
   ],
   "source": [
    "#prep my data!\n",
    "train, validate, test = prep_mall(df)"
   ]
  },
  {
   "cell_type": "code",
   "execution_count": 9,
   "id": "a77acdc5",
   "metadata": {},
   "outputs": [
    {
     "data": {
      "text/html": [
       "<div>\n",
       "<style scoped>\n",
       "    .dataframe tbody tr th:only-of-type {\n",
       "        vertical-align: middle;\n",
       "    }\n",
       "\n",
       "    .dataframe tbody tr th {\n",
       "        vertical-align: top;\n",
       "    }\n",
       "\n",
       "    .dataframe thead th {\n",
       "        text-align: right;\n",
       "    }\n",
       "</style>\n",
       "<table border=\"1\" class=\"dataframe\">\n",
       "  <thead>\n",
       "    <tr style=\"text-align: right;\">\n",
       "      <th></th>\n",
       "      <th>gender</th>\n",
       "      <th>age</th>\n",
       "      <th>annual_income</th>\n",
       "      <th>spending_score</th>\n",
       "      <th>is_male</th>\n",
       "    </tr>\n",
       "    <tr>\n",
       "      <th>customer_id</th>\n",
       "      <th></th>\n",
       "      <th></th>\n",
       "      <th></th>\n",
       "      <th></th>\n",
       "      <th></th>\n",
       "    </tr>\n",
       "  </thead>\n",
       "  <tbody>\n",
       "    <tr>\n",
       "      <th>53</th>\n",
       "      <td>Female</td>\n",
       "      <td>31</td>\n",
       "      <td>43</td>\n",
       "      <td>54</td>\n",
       "      <td>0</td>\n",
       "    </tr>\n",
       "    <tr>\n",
       "      <th>98</th>\n",
       "      <td>Female</td>\n",
       "      <td>27</td>\n",
       "      <td>60</td>\n",
       "      <td>50</td>\n",
       "      <td>0</td>\n",
       "    </tr>\n",
       "    <tr>\n",
       "      <th>198</th>\n",
       "      <td>Male</td>\n",
       "      <td>32</td>\n",
       "      <td>126</td>\n",
       "      <td>74</td>\n",
       "      <td>1</td>\n",
       "    </tr>\n",
       "    <tr>\n",
       "      <th>43</th>\n",
       "      <td>Male</td>\n",
       "      <td>48</td>\n",
       "      <td>39</td>\n",
       "      <td>36</td>\n",
       "      <td>1</td>\n",
       "    </tr>\n",
       "    <tr>\n",
       "      <th>160</th>\n",
       "      <td>Female</td>\n",
       "      <td>30</td>\n",
       "      <td>78</td>\n",
       "      <td>73</td>\n",
       "      <td>0</td>\n",
       "    </tr>\n",
       "  </tbody>\n",
       "</table>\n",
       "</div>"
      ],
      "text/plain": [
       "             gender  age  annual_income  spending_score  is_male\n",
       "customer_id                                                     \n",
       "53           Female   31             43              54        0\n",
       "98           Female   27             60              50        0\n",
       "198            Male   32            126              74        1\n",
       "43             Male   48             39              36        1\n",
       "160          Female   30             78              73        0"
      ]
     },
     "execution_count": 9,
     "metadata": {},
     "output_type": "execute_result"
    }
   ],
   "source": [
    "train.head()"
   ]
  },
  {
   "cell_type": "code",
   "execution_count": 10,
   "id": "46262f06",
   "metadata": {},
   "outputs": [],
   "source": [
    "features_to_scale = ['age','annual_income','spending_score']"
   ]
  },
  {
   "cell_type": "code",
   "execution_count": 11,
   "id": "9a753c25",
   "metadata": {},
   "outputs": [
    {
     "data": {
      "text/html": [
       "<div>\n",
       "<style scoped>\n",
       "    .dataframe tbody tr th:only-of-type {\n",
       "        vertical-align: middle;\n",
       "    }\n",
       "\n",
       "    .dataframe tbody tr th {\n",
       "        vertical-align: top;\n",
       "    }\n",
       "\n",
       "    .dataframe thead th {\n",
       "        text-align: right;\n",
       "    }\n",
       "</style>\n",
       "<table border=\"1\" class=\"dataframe\">\n",
       "  <thead>\n",
       "    <tr style=\"text-align: right;\">\n",
       "      <th></th>\n",
       "      <th>age</th>\n",
       "      <th>annual_income</th>\n",
       "      <th>spending_score</th>\n",
       "    </tr>\n",
       "    <tr>\n",
       "      <th>customer_id</th>\n",
       "      <th></th>\n",
       "      <th></th>\n",
       "      <th></th>\n",
       "    </tr>\n",
       "  </thead>\n",
       "  <tbody>\n",
       "    <tr>\n",
       "      <th>53</th>\n",
       "      <td>0.250000</td>\n",
       "      <td>0.229508</td>\n",
       "      <td>0.540816</td>\n",
       "    </tr>\n",
       "    <tr>\n",
       "      <th>98</th>\n",
       "      <td>0.173077</td>\n",
       "      <td>0.368852</td>\n",
       "      <td>0.500000</td>\n",
       "    </tr>\n",
       "    <tr>\n",
       "      <th>198</th>\n",
       "      <td>0.269231</td>\n",
       "      <td>0.909836</td>\n",
       "      <td>0.744898</td>\n",
       "    </tr>\n",
       "    <tr>\n",
       "      <th>43</th>\n",
       "      <td>0.576923</td>\n",
       "      <td>0.196721</td>\n",
       "      <td>0.357143</td>\n",
       "    </tr>\n",
       "    <tr>\n",
       "      <th>160</th>\n",
       "      <td>0.230769</td>\n",
       "      <td>0.516393</td>\n",
       "      <td>0.734694</td>\n",
       "    </tr>\n",
       "    <tr>\n",
       "      <th>...</th>\n",
       "      <td>...</td>\n",
       "      <td>...</td>\n",
       "      <td>...</td>\n",
       "    </tr>\n",
       "    <tr>\n",
       "      <th>27</th>\n",
       "      <td>0.519231</td>\n",
       "      <td>0.106557</td>\n",
       "      <td>0.316327</td>\n",
       "    </tr>\n",
       "    <tr>\n",
       "      <th>164</th>\n",
       "      <td>0.250000</td>\n",
       "      <td>0.540984</td>\n",
       "      <td>0.938776</td>\n",
       "    </tr>\n",
       "    <tr>\n",
       "      <th>193</th>\n",
       "      <td>0.288462</td>\n",
       "      <td>0.803279</td>\n",
       "      <td>0.071429</td>\n",
       "    </tr>\n",
       "    <tr>\n",
       "      <th>57</th>\n",
       "      <td>0.634615</td>\n",
       "      <td>0.237705</td>\n",
       "      <td>0.500000</td>\n",
       "    </tr>\n",
       "    <tr>\n",
       "      <th>142</th>\n",
       "      <td>0.269231</td>\n",
       "      <td>0.491803</td>\n",
       "      <td>0.938776</td>\n",
       "    </tr>\n",
       "  </tbody>\n",
       "</table>\n",
       "<p>180 rows × 3 columns</p>\n",
       "</div>"
      ],
      "text/plain": [
       "                  age  annual_income  spending_score\n",
       "customer_id                                         \n",
       "53           0.250000       0.229508        0.540816\n",
       "98           0.173077       0.368852        0.500000\n",
       "198          0.269231       0.909836        0.744898\n",
       "43           0.576923       0.196721        0.357143\n",
       "160          0.230769       0.516393        0.734694\n",
       "...               ...            ...             ...\n",
       "27           0.519231       0.106557        0.316327\n",
       "164          0.250000       0.540984        0.938776\n",
       "193          0.288462       0.803279        0.071429\n",
       "57           0.634615       0.237705        0.500000\n",
       "142          0.269231       0.491803        0.938776\n",
       "\n",
       "[180 rows x 3 columns]"
      ]
     },
     "execution_count": 11,
     "metadata": {},
     "output_type": "execute_result"
    }
   ],
   "source": [
    "train_scaled, validate_scaled, test_scaled = scale_my_data(train, validate, test, features_to_scale)\n",
    "train_scaled"
   ]
  },
  {
   "cell_type": "markdown",
   "id": "22823c68",
   "metadata": {},
   "source": [
    "## Explore"
   ]
  },
  {
   "cell_type": "markdown",
   "id": "9e13fbf8",
   "metadata": {},
   "source": [
    "We explored all the things!\n",
    "- hypothesize\n",
    "- visualize\n",
    "- statisticize\n",
    "- summarize\n",
    "\n",
    "We found that age, annual_income, and spending score looked like were good canidates for clusters. "
   ]
  },
  {
   "cell_type": "markdown",
   "id": "f3a0e21b",
   "metadata": {},
   "source": [
    "We utilized the elbow method to determine the best number of clusters"
   ]
  },
  {
   "cell_type": "code",
   "execution_count": 12,
   "id": "fb4bd75c",
   "metadata": {},
   "outputs": [
    {
     "data": {
      "image/png": "[encoded data removed]",
      "text/plain": [
       "<Figure size 640x480 with 1 Axes>"
      ]
     },
     "metadata": {},
     "output_type": "display_data"
    }
   ],
   "source": [
    "# lets plot inertia vs k\n",
    "pd.Series(\n",
    "    {k: KMeans(k, random_state=42, n_init=10)\\\n",
    "     .fit(train_scaled).inertia_ for k in range(2, 12)}).plot(marker='x')\n",
    "plt.xticks(range(2, 12))\n",
    "plt.xlabel('k')\n",
    "plt.ylabel('inertia')\n",
    "plt.title('Change in inertia as k increases')\n",
    "plt.grid()"
   ]
  },
  {
   "cell_type": "markdown",
   "id": "3fb3054e",
   "metadata": {},
   "source": [
    "#### Move forward optimal cluster number (i choose 4)"
   ]
  },
  {
   "cell_type": "code",
   "execution_count": 13,
   "id": "b0495f1f",
   "metadata": {},
   "outputs": [
    {
     "data": {
      "text/plain": [
       "array([2, 2, 0, 1, 0, 1, 1, 1, 2, 2, 1, 0, 2, 3, 2, 3, 1, 3, 1, 2, 3, 2,\n",
       "       0, 3, 0, 2, 1, 2, 2, 0, 0, 1, 1, 0, 3, 1, 2, 0, 2, 0, 0, 3, 2, 0,\n",
       "       3, 1, 2, 1, 1, 1, 2, 1, 1, 2, 3, 1, 2, 2, 2, 2, 1, 3, 1, 2, 0, 3,\n",
       "       0, 1, 1, 0, 1, 3, 1, 1, 1, 2, 3, 0, 1, 2, 2, 2, 3, 0, 1, 3, 2, 3,\n",
       "       0, 0, 2, 2, 2, 3, 2, 2, 1, 2, 3, 1, 1, 2, 0, 0, 2, 2, 0, 1, 1, 2,\n",
       "       2, 0, 1, 0, 1, 3, 3, 2, 3, 0, 2, 2, 2, 1, 3, 2, 1, 1, 2, 1, 0, 3,\n",
       "       1, 2, 3, 1, 1, 2, 2, 2, 1, 3, 0, 1, 1, 1, 2, 0, 0, 2, 2, 1, 1, 0,\n",
       "       3, 0, 1, 3, 1, 2, 2, 1, 1, 2, 3, 2, 2, 0, 3, 1, 3, 1, 1, 0, 1, 1,\n",
       "       0, 3, 1, 0], dtype=int32)"
      ]
     },
     "execution_count": 13,
     "metadata": {},
     "output_type": "execute_result"
    }
   ],
   "source": [
    "#make it\n",
    "kmeans = KMeans(n_clusters = 4, random_state=42, n_init=10)\n",
    "\n",
    "#fit it\n",
    "kmeans.fit(train_scaled)\n",
    "\n",
    "#use it\n",
    "kmeans.predict(train_scaled)"
   ]
  },
  {
   "cell_type": "markdown",
   "id": "cbeecee2",
   "metadata": {},
   "source": [
    "#### Now save all of the newly created clusters"
   ]
  },
  {
   "cell_type": "code",
   "execution_count": 14,
   "id": "1cbdc2ff",
   "metadata": {},
   "outputs": [
    {
     "data": {
      "text/html": [
       "<div>\n",
       "<style scoped>\n",
       "    .dataframe tbody tr th:only-of-type {\n",
       "        vertical-align: middle;\n",
       "    }\n",
       "\n",
       "    .dataframe tbody tr th {\n",
       "        vertical-align: top;\n",
       "    }\n",
       "\n",
       "    .dataframe thead th {\n",
       "        text-align: right;\n",
       "    }\n",
       "</style>\n",
       "<table border=\"1\" class=\"dataframe\">\n",
       "  <thead>\n",
       "    <tr style=\"text-align: right;\">\n",
       "      <th></th>\n",
       "      <th>age</th>\n",
       "      <th>annual_income</th>\n",
       "      <th>spending_score</th>\n",
       "      <th>cluster</th>\n",
       "    </tr>\n",
       "    <tr>\n",
       "      <th>customer_id</th>\n",
       "      <th></th>\n",
       "      <th></th>\n",
       "      <th></th>\n",
       "      <th></th>\n",
       "    </tr>\n",
       "  </thead>\n",
       "  <tbody>\n",
       "    <tr>\n",
       "      <th>53</th>\n",
       "      <td>0.250000</td>\n",
       "      <td>0.229508</td>\n",
       "      <td>0.540816</td>\n",
       "      <td>2</td>\n",
       "    </tr>\n",
       "    <tr>\n",
       "      <th>98</th>\n",
       "      <td>0.173077</td>\n",
       "      <td>0.368852</td>\n",
       "      <td>0.500000</td>\n",
       "      <td>2</td>\n",
       "    </tr>\n",
       "    <tr>\n",
       "      <th>198</th>\n",
       "      <td>0.269231</td>\n",
       "      <td>0.909836</td>\n",
       "      <td>0.744898</td>\n",
       "      <td>0</td>\n",
       "    </tr>\n",
       "    <tr>\n",
       "      <th>43</th>\n",
       "      <td>0.576923</td>\n",
       "      <td>0.196721</td>\n",
       "      <td>0.357143</td>\n",
       "      <td>1</td>\n",
       "    </tr>\n",
       "    <tr>\n",
       "      <th>160</th>\n",
       "      <td>0.230769</td>\n",
       "      <td>0.516393</td>\n",
       "      <td>0.734694</td>\n",
       "      <td>0</td>\n",
       "    </tr>\n",
       "  </tbody>\n",
       "</table>\n",
       "</div>"
      ],
      "text/plain": [
       "                  age  annual_income  spending_score  cluster\n",
       "customer_id                                                  \n",
       "53           0.250000       0.229508        0.540816        2\n",
       "98           0.173077       0.368852        0.500000        2\n",
       "198          0.269231       0.909836        0.744898        0\n",
       "43           0.576923       0.196721        0.357143        1\n",
       "160          0.230769       0.516393        0.734694        0"
      ]
     },
     "execution_count": 14,
     "metadata": {},
     "output_type": "execute_result"
    }
   ],
   "source": [
    "# And assign the cluster number to a column on the dataframe\n",
    "train_scaled[\"cluster\"] = kmeans.predict(train_scaled)\n",
    "train_scaled.head()"
   ]
  },
  {
   "cell_type": "markdown",
   "id": "8c8d3d32",
   "metadata": {},
   "source": [
    "## Yay clusters! What next?\n",
    "\n",
    "- Step 1: Explore the clusters\n",
    "- Step 2: Name the clusters\n",
    "- Step 3: \n",
    "    - Option 1: Dimensionality reduction\n",
    "    - Option 2: Treat cluster names as a new target variable\n",
    "    - Option 3: Perform deeper EDA\n",
    "    - Option 4: Make many models"
   ]
  },
  {
   "cell_type": "markdown",
   "id": "64cad4b3",
   "metadata": {},
   "source": [
    "### Step 1: Explore the clusters\n",
    "\n",
    "see how they are similiar or different"
   ]
  },
  {
   "cell_type": "code",
   "execution_count": 19,
   "id": "3f6a4ab7",
   "metadata": {},
   "outputs": [
    {
     "data": {
      "image/png": "[encoded data removed]",
      "text/plain": [
       "<Figure size 1072.12x1000 with 4 Axes>"
      ]
     },
     "metadata": {},
     "output_type": "display_data"
    }
   ],
   "source": [
    "# plot out income vs. spending with regard to the cluster and age\n",
    "sns.relplot(data=train_scaled,\n",
    "           x='annual_income',\n",
    "           y='spending_score',\n",
    "           hue='age',\n",
    "           col='cluster',\n",
    "           col_wrap=2)\n",
    "plt.show()"
   ]
  },
  {
   "cell_type": "markdown",
   "id": "7f12c2ea",
   "metadata": {},
   "source": [
    "### Step 2: Name the clusters \n",
    "\n",
    "use natural, descriptive language"
   ]
  },
  {
   "cell_type": "code",
   "execution_count": 21,
   "id": "88db299e",
   "metadata": {},
   "outputs": [],
   "source": [
    "#rename using map\n",
    "train['cluster'] = train_scaled.cluster.map({\n",
    "    0:'young_ballers',\n",
    "    1:'old_poor_and_low_spending',\n",
    "    2:'young_spending_above_their_means',\n",
    "    3:'old_frugal'\n",
    "})"
   ]
  },
  {
   "cell_type": "code",
   "execution_count": 22,
   "id": "60ba80d0",
   "metadata": {},
   "outputs": [
    {
     "data": {
      "text/html": [
       "<div>\n",
       "<style scoped>\n",
       "    .dataframe tbody tr th:only-of-type {\n",
       "        vertical-align: middle;\n",
       "    }\n",
       "\n",
       "    .dataframe tbody tr th {\n",
       "        vertical-align: top;\n",
       "    }\n",
       "\n",
       "    .dataframe thead th {\n",
       "        text-align: right;\n",
       "    }\n",
       "</style>\n",
       "<table border=\"1\" class=\"dataframe\">\n",
       "  <thead>\n",
       "    <tr style=\"text-align: right;\">\n",
       "      <th></th>\n",
       "      <th>gender</th>\n",
       "      <th>age</th>\n",
       "      <th>annual_income</th>\n",
       "      <th>spending_score</th>\n",
       "      <th>is_male</th>\n",
       "      <th>cluster</th>\n",
       "    </tr>\n",
       "    <tr>\n",
       "      <th>customer_id</th>\n",
       "      <th></th>\n",
       "      <th></th>\n",
       "      <th></th>\n",
       "      <th></th>\n",
       "      <th></th>\n",
       "      <th></th>\n",
       "    </tr>\n",
       "  </thead>\n",
       "  <tbody>\n",
       "    <tr>\n",
       "      <th>53</th>\n",
       "      <td>Female</td>\n",
       "      <td>31</td>\n",
       "      <td>43</td>\n",
       "      <td>54</td>\n",
       "      <td>0</td>\n",
       "      <td>young_spending_above_their_means</td>\n",
       "    </tr>\n",
       "    <tr>\n",
       "      <th>98</th>\n",
       "      <td>Female</td>\n",
       "      <td>27</td>\n",
       "      <td>60</td>\n",
       "      <td>50</td>\n",
       "      <td>0</td>\n",
       "      <td>young_spending_above_their_means</td>\n",
       "    </tr>\n",
       "    <tr>\n",
       "      <th>198</th>\n",
       "      <td>Male</td>\n",
       "      <td>32</td>\n",
       "      <td>126</td>\n",
       "      <td>74</td>\n",
       "      <td>1</td>\n",
       "      <td>young_ballers</td>\n",
       "    </tr>\n",
       "    <tr>\n",
       "      <th>43</th>\n",
       "      <td>Male</td>\n",
       "      <td>48</td>\n",
       "      <td>39</td>\n",
       "      <td>36</td>\n",
       "      <td>1</td>\n",
       "      <td>old_poor_and_low_spending</td>\n",
       "    </tr>\n",
       "    <tr>\n",
       "      <th>160</th>\n",
       "      <td>Female</td>\n",
       "      <td>30</td>\n",
       "      <td>78</td>\n",
       "      <td>73</td>\n",
       "      <td>0</td>\n",
       "      <td>young_ballers</td>\n",
       "    </tr>\n",
       "  </tbody>\n",
       "</table>\n",
       "</div>"
      ],
      "text/plain": [
       "             gender  age  annual_income  spending_score  is_male  \\\n",
       "customer_id                                                        \n",
       "53           Female   31             43              54        0   \n",
       "98           Female   27             60              50        0   \n",
       "198            Male   32            126              74        1   \n",
       "43             Male   48             39              36        1   \n",
       "160          Female   30             78              73        0   \n",
       "\n",
       "                                      cluster  \n",
       "customer_id                                    \n",
       "53           young_spending_above_their_means  \n",
       "98           young_spending_above_their_means  \n",
       "198                             young_ballers  \n",
       "43                  old_poor_and_low_spending  \n",
       "160                             young_ballers  "
      ]
     },
     "execution_count": 22,
     "metadata": {},
     "output_type": "execute_result"
    }
   ],
   "source": [
    "train.head()"
   ]
  },
  {
   "cell_type": "markdown",
   "id": "94932f04",
   "metadata": {},
   "source": [
    "### Step 3: Options"
   ]
  },
  {
   "cell_type": "markdown",
   "id": "dc949a21",
   "metadata": {},
   "source": [
    "#### Let's say our mall dataset had more features in it, this will allow us to better utilize our clusters"
   ]
  },
  {
   "cell_type": "code",
   "execution_count": 23,
   "id": "f1d264d5",
   "metadata": {},
   "outputs": [],
   "source": [
    "train['transportation'] = np.random.choice(['personal_vehicle','walking','dropoff'],len(train),p=[.75,0.05,.2])\n",
    "train['group_size'] = np.random.randint(1,10,len(train))\n",
    "train['hair_color'] = np.random.choice(['black','brown','blonde','grey','other'],len(train))"
   ]
  },
  {
   "cell_type": "code",
   "execution_count": 24,
   "id": "e14e018f",
   "metadata": {},
   "outputs": [
    {
     "data": {
      "text/html": [
       "<div>\n",
       "<style scoped>\n",
       "    .dataframe tbody tr th:only-of-type {\n",
       "        vertical-align: middle;\n",
       "    }\n",
       "\n",
       "    .dataframe tbody tr th {\n",
       "        vertical-align: top;\n",
       "    }\n",
       "\n",
       "    .dataframe thead th {\n",
       "        text-align: right;\n",
       "    }\n",
       "</style>\n",
       "<table border=\"1\" class=\"dataframe\">\n",
       "  <thead>\n",
       "    <tr style=\"text-align: right;\">\n",
       "      <th></th>\n",
       "      <th>gender</th>\n",
       "      <th>age</th>\n",
       "      <th>annual_income</th>\n",
       "      <th>spending_score</th>\n",
       "      <th>is_male</th>\n",
       "      <th>cluster</th>\n",
       "      <th>transportation</th>\n",
       "      <th>group_size</th>\n",
       "      <th>hair_color</th>\n",
       "    </tr>\n",
       "    <tr>\n",
       "      <th>customer_id</th>\n",
       "      <th></th>\n",
       "      <th></th>\n",
       "      <th></th>\n",
       "      <th></th>\n",
       "      <th></th>\n",
       "      <th></th>\n",
       "      <th></th>\n",
       "      <th></th>\n",
       "      <th></th>\n",
       "    </tr>\n",
       "  </thead>\n",
       "  <tbody>\n",
       "    <tr>\n",
       "      <th>53</th>\n",
       "      <td>Female</td>\n",
       "      <td>31</td>\n",
       "      <td>43</td>\n",
       "      <td>54</td>\n",
       "      <td>0</td>\n",
       "      <td>young_spending_above_their_means</td>\n",
       "      <td>personal_vehicle</td>\n",
       "      <td>6</td>\n",
       "      <td>grey</td>\n",
       "    </tr>\n",
       "    <tr>\n",
       "      <th>98</th>\n",
       "      <td>Female</td>\n",
       "      <td>27</td>\n",
       "      <td>60</td>\n",
       "      <td>50</td>\n",
       "      <td>0</td>\n",
       "      <td>young_spending_above_their_means</td>\n",
       "      <td>personal_vehicle</td>\n",
       "      <td>5</td>\n",
       "      <td>other</td>\n",
       "    </tr>\n",
       "    <tr>\n",
       "      <th>198</th>\n",
       "      <td>Male</td>\n",
       "      <td>32</td>\n",
       "      <td>126</td>\n",
       "      <td>74</td>\n",
       "      <td>1</td>\n",
       "      <td>young_ballers</td>\n",
       "      <td>dropoff</td>\n",
       "      <td>5</td>\n",
       "      <td>blonde</td>\n",
       "    </tr>\n",
       "    <tr>\n",
       "      <th>43</th>\n",
       "      <td>Male</td>\n",
       "      <td>48</td>\n",
       "      <td>39</td>\n",
       "      <td>36</td>\n",
       "      <td>1</td>\n",
       "      <td>old_poor_and_low_spending</td>\n",
       "      <td>personal_vehicle</td>\n",
       "      <td>8</td>\n",
       "      <td>black</td>\n",
       "    </tr>\n",
       "    <tr>\n",
       "      <th>160</th>\n",
       "      <td>Female</td>\n",
       "      <td>30</td>\n",
       "      <td>78</td>\n",
       "      <td>73</td>\n",
       "      <td>0</td>\n",
       "      <td>young_ballers</td>\n",
       "      <td>dropoff</td>\n",
       "      <td>8</td>\n",
       "      <td>other</td>\n",
       "    </tr>\n",
       "  </tbody>\n",
       "</table>\n",
       "</div>"
      ],
      "text/plain": [
       "             gender  age  annual_income  spending_score  is_male  \\\n",
       "customer_id                                                        \n",
       "53           Female   31             43              54        0   \n",
       "98           Female   27             60              50        0   \n",
       "198            Male   32            126              74        1   \n",
       "43             Male   48             39              36        1   \n",
       "160          Female   30             78              73        0   \n",
       "\n",
       "                                      cluster    transportation  group_size  \\\n",
       "customer_id                                                                   \n",
       "53           young_spending_above_their_means  personal_vehicle           6   \n",
       "98           young_spending_above_their_means  personal_vehicle           5   \n",
       "198                             young_ballers           dropoff           5   \n",
       "43                  old_poor_and_low_spending  personal_vehicle           8   \n",
       "160                             young_ballers           dropoff           8   \n",
       "\n",
       "            hair_color  \n",
       "customer_id             \n",
       "53                grey  \n",
       "98               other  \n",
       "198             blonde  \n",
       "43               black  \n",
       "160              other  "
      ]
     },
     "execution_count": 24,
     "metadata": {},
     "output_type": "execute_result"
    }
   ],
   "source": [
    "train.head()"
   ]
  },
  {
   "cell_type": "markdown",
   "id": "c00387ec",
   "metadata": {},
   "source": [
    "### Option 1: Use the clusters to simplify multiple other variables\n",
    "- Since the cluster names make sense, we can use them instead of age, spending, and income\n",
    "    - this potentially makes our features simplier and easier to explain\n",
    "        - helpful for storytelling\n",
    "    - this allows us to reduce features\n",
    "        - likely help model performance (regression, classification)"
   ]
  },
  {
   "cell_type": "code",
   "execution_count": 37,
   "id": "50dbcc11",
   "metadata": {},
   "outputs": [
    {
     "data": {
      "image/png": "[encoded data removed]",
      "text/plain": [
       "<Figure size 640x480 with 1 Axes>"
      ]
     },
     "metadata": {},
     "output_type": "display_data"
    }
   ],
   "source": [
    "train.cluster.value_counts().plot.barh();"
   ]
  },
  {
   "cell_type": "markdown",
   "id": "5d7b10a9",
   "metadata": {},
   "source": [
    "#### lets say we wanted to predict transportation"
   ]
  },
  {
   "cell_type": "code",
   "execution_count": 25,
   "id": "3f9819e9",
   "metadata": {},
   "outputs": [
    {
     "data": {
      "text/html": [
       "<div>\n",
       "<style scoped>\n",
       "    .dataframe tbody tr th:only-of-type {\n",
       "        vertical-align: middle;\n",
       "    }\n",
       "\n",
       "    .dataframe tbody tr th {\n",
       "        vertical-align: top;\n",
       "    }\n",
       "\n",
       "    .dataframe thead th {\n",
       "        text-align: right;\n",
       "    }\n",
       "</style>\n",
       "<table border=\"1\" class=\"dataframe\">\n",
       "  <thead>\n",
       "    <tr style=\"text-align: right;\">\n",
       "      <th></th>\n",
       "      <th>gender</th>\n",
       "      <th>age</th>\n",
       "      <th>annual_income</th>\n",
       "      <th>spending_score</th>\n",
       "      <th>is_male</th>\n",
       "      <th>cluster</th>\n",
       "      <th>transportation</th>\n",
       "      <th>group_size</th>\n",
       "      <th>hair_color</th>\n",
       "    </tr>\n",
       "    <tr>\n",
       "      <th>customer_id</th>\n",
       "      <th></th>\n",
       "      <th></th>\n",
       "      <th></th>\n",
       "      <th></th>\n",
       "      <th></th>\n",
       "      <th></th>\n",
       "      <th></th>\n",
       "      <th></th>\n",
       "      <th></th>\n",
       "    </tr>\n",
       "  </thead>\n",
       "  <tbody>\n",
       "    <tr>\n",
       "      <th>53</th>\n",
       "      <td>Female</td>\n",
       "      <td>31</td>\n",
       "      <td>43</td>\n",
       "      <td>54</td>\n",
       "      <td>0</td>\n",
       "      <td>young_spending_above_their_means</td>\n",
       "      <td>personal_vehicle</td>\n",
       "      <td>6</td>\n",
       "      <td>grey</td>\n",
       "    </tr>\n",
       "    <tr>\n",
       "      <th>98</th>\n",
       "      <td>Female</td>\n",
       "      <td>27</td>\n",
       "      <td>60</td>\n",
       "      <td>50</td>\n",
       "      <td>0</td>\n",
       "      <td>young_spending_above_their_means</td>\n",
       "      <td>personal_vehicle</td>\n",
       "      <td>5</td>\n",
       "      <td>other</td>\n",
       "    </tr>\n",
       "    <tr>\n",
       "      <th>198</th>\n",
       "      <td>Male</td>\n",
       "      <td>32</td>\n",
       "      <td>126</td>\n",
       "      <td>74</td>\n",
       "      <td>1</td>\n",
       "      <td>young_ballers</td>\n",
       "      <td>dropoff</td>\n",
       "      <td>5</td>\n",
       "      <td>blonde</td>\n",
       "    </tr>\n",
       "    <tr>\n",
       "      <th>43</th>\n",
       "      <td>Male</td>\n",
       "      <td>48</td>\n",
       "      <td>39</td>\n",
       "      <td>36</td>\n",
       "      <td>1</td>\n",
       "      <td>old_poor_and_low_spending</td>\n",
       "      <td>personal_vehicle</td>\n",
       "      <td>8</td>\n",
       "      <td>black</td>\n",
       "    </tr>\n",
       "    <tr>\n",
       "      <th>160</th>\n",
       "      <td>Female</td>\n",
       "      <td>30</td>\n",
       "      <td>78</td>\n",
       "      <td>73</td>\n",
       "      <td>0</td>\n",
       "      <td>young_ballers</td>\n",
       "      <td>dropoff</td>\n",
       "      <td>8</td>\n",
       "      <td>other</td>\n",
       "    </tr>\n",
       "  </tbody>\n",
       "</table>\n",
       "</div>"
      ],
      "text/plain": [
       "             gender  age  annual_income  spending_score  is_male  \\\n",
       "customer_id                                                        \n",
       "53           Female   31             43              54        0   \n",
       "98           Female   27             60              50        0   \n",
       "198            Male   32            126              74        1   \n",
       "43             Male   48             39              36        1   \n",
       "160          Female   30             78              73        0   \n",
       "\n",
       "                                      cluster    transportation  group_size  \\\n",
       "customer_id                                                                   \n",
       "53           young_spending_above_their_means  personal_vehicle           6   \n",
       "98           young_spending_above_their_means  personal_vehicle           5   \n",
       "198                             young_ballers           dropoff           5   \n",
       "43                  old_poor_and_low_spending  personal_vehicle           8   \n",
       "160                             young_ballers           dropoff           8   \n",
       "\n",
       "            hair_color  \n",
       "customer_id             \n",
       "53                grey  \n",
       "98               other  \n",
       "198             blonde  \n",
       "43               black  \n",
       "160              other  "
      ]
     },
     "execution_count": 25,
     "metadata": {},
     "output_type": "execute_result"
    }
   ],
   "source": [
    "train.head()"
   ]
  },
  {
   "cell_type": "markdown",
   "id": "78dfabcc",
   "metadata": {},
   "source": [
    "we will now build a classification model since we have a target"
   ]
  },
  {
   "cell_type": "code",
   "execution_count": 29,
   "id": "e54099a0",
   "metadata": {},
   "outputs": [
    {
     "data": {
      "text/plain": [
       "customer_id\n",
       "53     personal_vehicle\n",
       "98     personal_vehicle\n",
       "198             dropoff\n",
       "43     personal_vehicle\n",
       "160             dropoff\n",
       "Name: transportation, dtype: object"
      ]
     },
     "execution_count": 29,
     "metadata": {},
     "output_type": "execute_result"
    }
   ],
   "source": [
    "#define y_train\n",
    "y_train = train.transportation\n",
    "y_train.head()"
   ]
  },
  {
   "cell_type": "markdown",
   "id": "c89cc8ff",
   "metadata": {},
   "source": [
    "without our clusters"
   ]
  },
  {
   "cell_type": "code",
   "execution_count": 30,
   "id": "66ef3d6f",
   "metadata": {},
   "outputs": [
    {
     "data": {
      "text/html": [
       "<div>\n",
       "<style scoped>\n",
       "    .dataframe tbody tr th:only-of-type {\n",
       "        vertical-align: middle;\n",
       "    }\n",
       "\n",
       "    .dataframe tbody tr th {\n",
       "        vertical-align: top;\n",
       "    }\n",
       "\n",
       "    .dataframe thead th {\n",
       "        text-align: right;\n",
       "    }\n",
       "</style>\n",
       "<table border=\"1\" class=\"dataframe\">\n",
       "  <thead>\n",
       "    <tr style=\"text-align: right;\">\n",
       "      <th></th>\n",
       "      <th>gender</th>\n",
       "      <th>age</th>\n",
       "      <th>annual_income</th>\n",
       "      <th>spending_score</th>\n",
       "      <th>group_size</th>\n",
       "      <th>hair_color</th>\n",
       "    </tr>\n",
       "    <tr>\n",
       "      <th>customer_id</th>\n",
       "      <th></th>\n",
       "      <th></th>\n",
       "      <th></th>\n",
       "      <th></th>\n",
       "      <th></th>\n",
       "      <th></th>\n",
       "    </tr>\n",
       "  </thead>\n",
       "  <tbody>\n",
       "    <tr>\n",
       "      <th>53</th>\n",
       "      <td>Female</td>\n",
       "      <td>31</td>\n",
       "      <td>43</td>\n",
       "      <td>54</td>\n",
       "      <td>6</td>\n",
       "      <td>grey</td>\n",
       "    </tr>\n",
       "    <tr>\n",
       "      <th>98</th>\n",
       "      <td>Female</td>\n",
       "      <td>27</td>\n",
       "      <td>60</td>\n",
       "      <td>50</td>\n",
       "      <td>5</td>\n",
       "      <td>other</td>\n",
       "    </tr>\n",
       "    <tr>\n",
       "      <th>198</th>\n",
       "      <td>Male</td>\n",
       "      <td>32</td>\n",
       "      <td>126</td>\n",
       "      <td>74</td>\n",
       "      <td>5</td>\n",
       "      <td>blonde</td>\n",
       "    </tr>\n",
       "    <tr>\n",
       "      <th>43</th>\n",
       "      <td>Male</td>\n",
       "      <td>48</td>\n",
       "      <td>39</td>\n",
       "      <td>36</td>\n",
       "      <td>8</td>\n",
       "      <td>black</td>\n",
       "    </tr>\n",
       "    <tr>\n",
       "      <th>160</th>\n",
       "      <td>Female</td>\n",
       "      <td>30</td>\n",
       "      <td>78</td>\n",
       "      <td>73</td>\n",
       "      <td>8</td>\n",
       "      <td>other</td>\n",
       "    </tr>\n",
       "  </tbody>\n",
       "</table>\n",
       "</div>"
      ],
      "text/plain": [
       "             gender  age  annual_income  spending_score  group_size hair_color\n",
       "customer_id                                                                   \n",
       "53           Female   31             43              54           6       grey\n",
       "98           Female   27             60              50           5      other\n",
       "198            Male   32            126              74           5     blonde\n",
       "43             Male   48             39              36           8      black\n",
       "160          Female   30             78              73           8      other"
      ]
     },
     "execution_count": 30,
     "metadata": {},
     "output_type": "execute_result"
    }
   ],
   "source": [
    "#define X_train\n",
    "X_train = train[['gender','age','annual_income','spending_score','group_size','hair_color']]\n",
    "X_train.head()"
   ]
  },
  {
   "cell_type": "markdown",
   "id": "7c04e1f4",
   "metadata": {},
   "source": [
    "with our clusters"
   ]
  },
  {
   "cell_type": "code",
   "execution_count": 32,
   "id": "11f696d0",
   "metadata": {},
   "outputs": [
    {
     "data": {
      "text/html": [
       "<div>\n",
       "<style scoped>\n",
       "    .dataframe tbody tr th:only-of-type {\n",
       "        vertical-align: middle;\n",
       "    }\n",
       "\n",
       "    .dataframe tbody tr th {\n",
       "        vertical-align: top;\n",
       "    }\n",
       "\n",
       "    .dataframe thead th {\n",
       "        text-align: right;\n",
       "    }\n",
       "</style>\n",
       "<table border=\"1\" class=\"dataframe\">\n",
       "  <thead>\n",
       "    <tr style=\"text-align: right;\">\n",
       "      <th></th>\n",
       "      <th>gender</th>\n",
       "      <th>cluster</th>\n",
       "      <th>group_size</th>\n",
       "      <th>hair_color</th>\n",
       "    </tr>\n",
       "    <tr>\n",
       "      <th>customer_id</th>\n",
       "      <th></th>\n",
       "      <th></th>\n",
       "      <th></th>\n",
       "      <th></th>\n",
       "    </tr>\n",
       "  </thead>\n",
       "  <tbody>\n",
       "    <tr>\n",
       "      <th>53</th>\n",
       "      <td>Female</td>\n",
       "      <td>young_spending_above_their_means</td>\n",
       "      <td>6</td>\n",
       "      <td>grey</td>\n",
       "    </tr>\n",
       "    <tr>\n",
       "      <th>98</th>\n",
       "      <td>Female</td>\n",
       "      <td>young_spending_above_their_means</td>\n",
       "      <td>5</td>\n",
       "      <td>other</td>\n",
       "    </tr>\n",
       "    <tr>\n",
       "      <th>198</th>\n",
       "      <td>Male</td>\n",
       "      <td>young_ballers</td>\n",
       "      <td>5</td>\n",
       "      <td>blonde</td>\n",
       "    </tr>\n",
       "    <tr>\n",
       "      <th>43</th>\n",
       "      <td>Male</td>\n",
       "      <td>old_poor_and_low_spending</td>\n",
       "      <td>8</td>\n",
       "      <td>black</td>\n",
       "    </tr>\n",
       "    <tr>\n",
       "      <th>160</th>\n",
       "      <td>Female</td>\n",
       "      <td>young_ballers</td>\n",
       "      <td>8</td>\n",
       "      <td>other</td>\n",
       "    </tr>\n",
       "  </tbody>\n",
       "</table>\n",
       "</div>"
      ],
      "text/plain": [
       "             gender                           cluster  group_size hair_color\n",
       "customer_id                                                                 \n",
       "53           Female  young_spending_above_their_means           6       grey\n",
       "98           Female  young_spending_above_their_means           5      other\n",
       "198            Male                     young_ballers           5     blonde\n",
       "43             Male         old_poor_and_low_spending           8      black\n",
       "160          Female                     young_ballers           8      other"
      ]
     },
     "execution_count": 32,
     "metadata": {},
     "output_type": "execute_result"
    }
   ],
   "source": [
    "#define X_train\n",
    "X_train = train[['gender','cluster','group_size','hair_color']]\n",
    "X_train.head()"
   ]
  },
  {
   "cell_type": "markdown",
   "id": "ad89f6e5",
   "metadata": {},
   "source": [
    "### Option 2: Use cluster names as a target variable to classify new data"
   ]
  },
  {
   "cell_type": "code",
   "execution_count": 38,
   "id": "c5be3673",
   "metadata": {},
   "outputs": [
    {
     "data": {
      "text/html": [
       "<div>\n",
       "<style scoped>\n",
       "    .dataframe tbody tr th:only-of-type {\n",
       "        vertical-align: middle;\n",
       "    }\n",
       "\n",
       "    .dataframe tbody tr th {\n",
       "        vertical-align: top;\n",
       "    }\n",
       "\n",
       "    .dataframe thead th {\n",
       "        text-align: right;\n",
       "    }\n",
       "</style>\n",
       "<table border=\"1\" class=\"dataframe\">\n",
       "  <thead>\n",
       "    <tr style=\"text-align: right;\">\n",
       "      <th></th>\n",
       "      <th>gender</th>\n",
       "      <th>age</th>\n",
       "      <th>annual_income</th>\n",
       "      <th>spending_score</th>\n",
       "      <th>is_male</th>\n",
       "      <th>cluster</th>\n",
       "      <th>transportation</th>\n",
       "      <th>group_size</th>\n",
       "      <th>hair_color</th>\n",
       "    </tr>\n",
       "    <tr>\n",
       "      <th>customer_id</th>\n",
       "      <th></th>\n",
       "      <th></th>\n",
       "      <th></th>\n",
       "      <th></th>\n",
       "      <th></th>\n",
       "      <th></th>\n",
       "      <th></th>\n",
       "      <th></th>\n",
       "      <th></th>\n",
       "    </tr>\n",
       "  </thead>\n",
       "  <tbody>\n",
       "    <tr>\n",
       "      <th>53</th>\n",
       "      <td>Female</td>\n",
       "      <td>31</td>\n",
       "      <td>43</td>\n",
       "      <td>54</td>\n",
       "      <td>0</td>\n",
       "      <td>young_spending_above_their_means</td>\n",
       "      <td>personal_vehicle</td>\n",
       "      <td>6</td>\n",
       "      <td>grey</td>\n",
       "    </tr>\n",
       "    <tr>\n",
       "      <th>98</th>\n",
       "      <td>Female</td>\n",
       "      <td>27</td>\n",
       "      <td>60</td>\n",
       "      <td>50</td>\n",
       "      <td>0</td>\n",
       "      <td>young_spending_above_their_means</td>\n",
       "      <td>personal_vehicle</td>\n",
       "      <td>5</td>\n",
       "      <td>other</td>\n",
       "    </tr>\n",
       "    <tr>\n",
       "      <th>198</th>\n",
       "      <td>Male</td>\n",
       "      <td>32</td>\n",
       "      <td>126</td>\n",
       "      <td>74</td>\n",
       "      <td>1</td>\n",
       "      <td>young_ballers</td>\n",
       "      <td>dropoff</td>\n",
       "      <td>5</td>\n",
       "      <td>blonde</td>\n",
       "    </tr>\n",
       "    <tr>\n",
       "      <th>43</th>\n",
       "      <td>Male</td>\n",
       "      <td>48</td>\n",
       "      <td>39</td>\n",
       "      <td>36</td>\n",
       "      <td>1</td>\n",
       "      <td>old_poor_and_low_spending</td>\n",
       "      <td>personal_vehicle</td>\n",
       "      <td>8</td>\n",
       "      <td>black</td>\n",
       "    </tr>\n",
       "    <tr>\n",
       "      <th>160</th>\n",
       "      <td>Female</td>\n",
       "      <td>30</td>\n",
       "      <td>78</td>\n",
       "      <td>73</td>\n",
       "      <td>0</td>\n",
       "      <td>young_ballers</td>\n",
       "      <td>dropoff</td>\n",
       "      <td>8</td>\n",
       "      <td>other</td>\n",
       "    </tr>\n",
       "  </tbody>\n",
       "</table>\n",
       "</div>"
      ],
      "text/plain": [
       "             gender  age  annual_income  spending_score  is_male  \\\n",
       "customer_id                                                        \n",
       "53           Female   31             43              54        0   \n",
       "98           Female   27             60              50        0   \n",
       "198            Male   32            126              74        1   \n",
       "43             Male   48             39              36        1   \n",
       "160          Female   30             78              73        0   \n",
       "\n",
       "                                      cluster    transportation  group_size  \\\n",
       "customer_id                                                                   \n",
       "53           young_spending_above_their_means  personal_vehicle           6   \n",
       "98           young_spending_above_their_means  personal_vehicle           5   \n",
       "198                             young_ballers           dropoff           5   \n",
       "43                  old_poor_and_low_spending  personal_vehicle           8   \n",
       "160                             young_ballers           dropoff           8   \n",
       "\n",
       "            hair_color  \n",
       "customer_id             \n",
       "53                grey  \n",
       "98               other  \n",
       "198             blonde  \n",
       "43               black  \n",
       "160              other  "
      ]
     },
     "execution_count": 38,
     "metadata": {},
     "output_type": "execute_result"
    }
   ],
   "source": [
    "train.head()"
   ]
  },
  {
   "cell_type": "markdown",
   "id": "6d512524",
   "metadata": {},
   "source": [
    "#### our new clusters can be our target variable"
   ]
  },
  {
   "cell_type": "markdown",
   "id": "3894ee22",
   "metadata": {},
   "source": [
    "we can once again build a classification model using our new target variable"
   ]
  },
  {
   "cell_type": "code",
   "execution_count": 40,
   "id": "82037a15",
   "metadata": {},
   "outputs": [
    {
     "data": {
      "text/plain": [
       "customer_id\n",
       "53     young_spending_above_their_means\n",
       "98     young_spending_above_their_means\n",
       "198                       young_ballers\n",
       "43            old_poor_and_low_spending\n",
       "160                       young_ballers\n",
       "Name: cluster, dtype: object"
      ]
     },
     "execution_count": 40,
     "metadata": {},
     "output_type": "execute_result"
    }
   ],
   "source": [
    "#define y_train\n",
    "y_train = train.cluster\n",
    "y_train.head()"
   ]
  },
  {
   "cell_type": "markdown",
   "id": "3c6f0a98",
   "metadata": {},
   "source": [
    "#### our X_train can NOT include features that were used to calculate our target variable"
   ]
  },
  {
   "cell_type": "code",
   "execution_count": 43,
   "id": "5d6bcb38",
   "metadata": {},
   "outputs": [
    {
     "data": {
      "text/html": [
       "<div>\n",
       "<style scoped>\n",
       "    .dataframe tbody tr th:only-of-type {\n",
       "        vertical-align: middle;\n",
       "    }\n",
       "\n",
       "    .dataframe tbody tr th {\n",
       "        vertical-align: top;\n",
       "    }\n",
       "\n",
       "    .dataframe thead th {\n",
       "        text-align: right;\n",
       "    }\n",
       "</style>\n",
       "<table border=\"1\" class=\"dataframe\">\n",
       "  <thead>\n",
       "    <tr style=\"text-align: right;\">\n",
       "      <th></th>\n",
       "      <th>gender</th>\n",
       "      <th>transportation</th>\n",
       "      <th>group_size</th>\n",
       "      <th>hair_color</th>\n",
       "    </tr>\n",
       "    <tr>\n",
       "      <th>customer_id</th>\n",
       "      <th></th>\n",
       "      <th></th>\n",
       "      <th></th>\n",
       "      <th></th>\n",
       "    </tr>\n",
       "  </thead>\n",
       "  <tbody>\n",
       "    <tr>\n",
       "      <th>53</th>\n",
       "      <td>Female</td>\n",
       "      <td>personal_vehicle</td>\n",
       "      <td>6</td>\n",
       "      <td>grey</td>\n",
       "    </tr>\n",
       "    <tr>\n",
       "      <th>98</th>\n",
       "      <td>Female</td>\n",
       "      <td>personal_vehicle</td>\n",
       "      <td>5</td>\n",
       "      <td>other</td>\n",
       "    </tr>\n",
       "    <tr>\n",
       "      <th>198</th>\n",
       "      <td>Male</td>\n",
       "      <td>dropoff</td>\n",
       "      <td>5</td>\n",
       "      <td>blonde</td>\n",
       "    </tr>\n",
       "    <tr>\n",
       "      <th>43</th>\n",
       "      <td>Male</td>\n",
       "      <td>personal_vehicle</td>\n",
       "      <td>8</td>\n",
       "      <td>black</td>\n",
       "    </tr>\n",
       "    <tr>\n",
       "      <th>160</th>\n",
       "      <td>Female</td>\n",
       "      <td>dropoff</td>\n",
       "      <td>8</td>\n",
       "      <td>other</td>\n",
       "    </tr>\n",
       "  </tbody>\n",
       "</table>\n",
       "</div>"
      ],
      "text/plain": [
       "             gender    transportation  group_size hair_color\n",
       "customer_id                                                 \n",
       "53           Female  personal_vehicle           6       grey\n",
       "98           Female  personal_vehicle           5      other\n",
       "198            Male           dropoff           5     blonde\n",
       "43             Male  personal_vehicle           8      black\n",
       "160          Female           dropoff           8      other"
      ]
     },
     "execution_count": 43,
     "metadata": {},
     "output_type": "execute_result"
    }
   ],
   "source": [
    "#define X_train\n",
    "X_train = train[['gender','transportation','group_size','hair_color']]\n",
    "X_train.head()"
   ]
  },
  {
   "cell_type": "markdown",
   "id": "9c536296",
   "metadata": {},
   "source": [
    "### Option 3: Perform deeper EDA\n",
    "Sometimes the identification of clusters gives us additional questions we need to ask.\n",
    "- hypothesize\n",
    "- visualize\n",
    "- statisticize\n",
    "- summarize"
   ]
  },
  {
   "cell_type": "code",
   "execution_count": 44,
   "id": "404e9d6d",
   "metadata": {},
   "outputs": [
    {
     "data": {
      "text/html": [
       "<div>\n",
       "<style scoped>\n",
       "    .dataframe tbody tr th:only-of-type {\n",
       "        vertical-align: middle;\n",
       "    }\n",
       "\n",
       "    .dataframe tbody tr th {\n",
       "        vertical-align: top;\n",
       "    }\n",
       "\n",
       "    .dataframe thead th {\n",
       "        text-align: right;\n",
       "    }\n",
       "</style>\n",
       "<table border=\"1\" class=\"dataframe\">\n",
       "  <thead>\n",
       "    <tr style=\"text-align: right;\">\n",
       "      <th></th>\n",
       "      <th>gender</th>\n",
       "      <th>age</th>\n",
       "      <th>annual_income</th>\n",
       "      <th>spending_score</th>\n",
       "      <th>is_male</th>\n",
       "      <th>cluster</th>\n",
       "      <th>transportation</th>\n",
       "      <th>group_size</th>\n",
       "      <th>hair_color</th>\n",
       "    </tr>\n",
       "    <tr>\n",
       "      <th>customer_id</th>\n",
       "      <th></th>\n",
       "      <th></th>\n",
       "      <th></th>\n",
       "      <th></th>\n",
       "      <th></th>\n",
       "      <th></th>\n",
       "      <th></th>\n",
       "      <th></th>\n",
       "      <th></th>\n",
       "    </tr>\n",
       "  </thead>\n",
       "  <tbody>\n",
       "    <tr>\n",
       "      <th>53</th>\n",
       "      <td>Female</td>\n",
       "      <td>31</td>\n",
       "      <td>43</td>\n",
       "      <td>54</td>\n",
       "      <td>0</td>\n",
       "      <td>young_spending_above_their_means</td>\n",
       "      <td>personal_vehicle</td>\n",
       "      <td>6</td>\n",
       "      <td>grey</td>\n",
       "    </tr>\n",
       "    <tr>\n",
       "      <th>98</th>\n",
       "      <td>Female</td>\n",
       "      <td>27</td>\n",
       "      <td>60</td>\n",
       "      <td>50</td>\n",
       "      <td>0</td>\n",
       "      <td>young_spending_above_their_means</td>\n",
       "      <td>personal_vehicle</td>\n",
       "      <td>5</td>\n",
       "      <td>other</td>\n",
       "    </tr>\n",
       "    <tr>\n",
       "      <th>198</th>\n",
       "      <td>Male</td>\n",
       "      <td>32</td>\n",
       "      <td>126</td>\n",
       "      <td>74</td>\n",
       "      <td>1</td>\n",
       "      <td>young_ballers</td>\n",
       "      <td>dropoff</td>\n",
       "      <td>5</td>\n",
       "      <td>blonde</td>\n",
       "    </tr>\n",
       "    <tr>\n",
       "      <th>43</th>\n",
       "      <td>Male</td>\n",
       "      <td>48</td>\n",
       "      <td>39</td>\n",
       "      <td>36</td>\n",
       "      <td>1</td>\n",
       "      <td>old_poor_and_low_spending</td>\n",
       "      <td>personal_vehicle</td>\n",
       "      <td>8</td>\n",
       "      <td>black</td>\n",
       "    </tr>\n",
       "    <tr>\n",
       "      <th>160</th>\n",
       "      <td>Female</td>\n",
       "      <td>30</td>\n",
       "      <td>78</td>\n",
       "      <td>73</td>\n",
       "      <td>0</td>\n",
       "      <td>young_ballers</td>\n",
       "      <td>dropoff</td>\n",
       "      <td>8</td>\n",
       "      <td>other</td>\n",
       "    </tr>\n",
       "  </tbody>\n",
       "</table>\n",
       "</div>"
      ],
      "text/plain": [
       "             gender  age  annual_income  spending_score  is_male  \\\n",
       "customer_id                                                        \n",
       "53           Female   31             43              54        0   \n",
       "98           Female   27             60              50        0   \n",
       "198            Male   32            126              74        1   \n",
       "43             Male   48             39              36        1   \n",
       "160          Female   30             78              73        0   \n",
       "\n",
       "                                      cluster    transportation  group_size  \\\n",
       "customer_id                                                                   \n",
       "53           young_spending_above_their_means  personal_vehicle           6   \n",
       "98           young_spending_above_their_means  personal_vehicle           5   \n",
       "198                             young_ballers           dropoff           5   \n",
       "43                  old_poor_and_low_spending  personal_vehicle           8   \n",
       "160                             young_ballers           dropoff           8   \n",
       "\n",
       "            hair_color  \n",
       "customer_id             \n",
       "53                grey  \n",
       "98               other  \n",
       "198             blonde  \n",
       "43               black  \n",
       "160              other  "
      ]
     },
     "execution_count": 44,
     "metadata": {},
     "output_type": "execute_result"
    }
   ],
   "source": [
    "train.head()"
   ]
  },
  {
   "cell_type": "markdown",
   "id": "7c380a2b",
   "metadata": {},
   "source": [
    "#### How do the clusters (customer groups) compare to the group size?"
   ]
  },
  {
   "cell_type": "code",
   "execution_count": 47,
   "id": "deb15fbf",
   "metadata": {},
   "outputs": [
    {
     "data": {
      "text/plain": [
       "(array([0, 1, 2, 3]),\n",
       " [Text(0, 0, 'young_spending_above_their_means'),\n",
       "  Text(1, 0, 'young_ballers'),\n",
       "  Text(2, 0, 'old_poor_and_low_spending'),\n",
       "  Text(3, 0, 'old_frugal')])"
      ]
     },
     "execution_count": 47,
     "metadata": {},
     "output_type": "execute_result"
    },
    {
     "data": {
      "image/png": "[encoded data removed]",
      "text/plain": [
       "<Figure size 640x480 with 1 Axes>"
      ]
     },
     "metadata": {},
     "output_type": "display_data"
    }
   ],
   "source": [
    "sns.boxplot(data=train, x='cluster',y='group_size')\n",
    "plt.xticks(rotation=45)"
   ]
  },
  {
   "cell_type": "markdown",
   "id": "c026f2d3",
   "metadata": {},
   "source": [
    "verify with a stats test!"
   ]
  },
  {
   "cell_type": "markdown",
   "id": "91af84c0",
   "metadata": {},
   "source": [
    "write our conclusion!"
   ]
  },
  {
   "cell_type": "markdown",
   "id": "de998797",
   "metadata": {},
   "source": [
    "### Option 4: Create a Many Models Approach"
   ]
  },
  {
   "cell_type": "markdown",
   "id": "5cd64439",
   "metadata": {},
   "source": [
    "For each unique value in our cluster, build a separate model. Therefore, each cluser can have it's own model"
   ]
  },
  {
   "cell_type": "code",
   "execution_count": 49,
   "id": "76f039e6",
   "metadata": {},
   "outputs": [
    {
     "data": {
      "text/plain": [
       "old_poor_and_low_spending           58\n",
       "young_spending_above_their_means    56\n",
       "young_ballers                       35\n",
       "old_frugal                          31\n",
       "Name: cluster, dtype: int64"
      ]
     },
     "execution_count": 49,
     "metadata": {},
     "output_type": "execute_result"
    }
   ],
   "source": [
    "train.cluster.value_counts()"
   ]
  },
  {
   "cell_type": "markdown",
   "id": "95c7c39b",
   "metadata": {},
   "source": [
    "#### Model 1 -  Young people who are low income and spend a lot"
   ]
  },
  {
   "cell_type": "code",
   "execution_count": 53,
   "id": "f25af9b8",
   "metadata": {},
   "outputs": [],
   "source": [
    "to_drop = ['age','annual_income','spending_score', 'cluster']"
   ]
  },
  {
   "cell_type": "code",
   "execution_count": 56,
   "id": "32e85c93",
   "metadata": {},
   "outputs": [
    {
     "data": {
      "text/html": [
       "<div>\n",
       "<style scoped>\n",
       "    .dataframe tbody tr th:only-of-type {\n",
       "        vertical-align: middle;\n",
       "    }\n",
       "\n",
       "    .dataframe tbody tr th {\n",
       "        vertical-align: top;\n",
       "    }\n",
       "\n",
       "    .dataframe thead th {\n",
       "        text-align: right;\n",
       "    }\n",
       "</style>\n",
       "<table border=\"1\" class=\"dataframe\">\n",
       "  <thead>\n",
       "    <tr style=\"text-align: right;\">\n",
       "      <th></th>\n",
       "      <th>gender</th>\n",
       "      <th>is_male</th>\n",
       "      <th>transportation</th>\n",
       "      <th>group_size</th>\n",
       "      <th>hair_color</th>\n",
       "    </tr>\n",
       "    <tr>\n",
       "      <th>customer_id</th>\n",
       "      <th></th>\n",
       "      <th></th>\n",
       "      <th></th>\n",
       "      <th></th>\n",
       "      <th></th>\n",
       "    </tr>\n",
       "  </thead>\n",
       "  <tbody>\n",
       "    <tr>\n",
       "      <th>53</th>\n",
       "      <td>Female</td>\n",
       "      <td>0</td>\n",
       "      <td>personal_vehicle</td>\n",
       "      <td>6</td>\n",
       "      <td>grey</td>\n",
       "    </tr>\n",
       "    <tr>\n",
       "      <th>98</th>\n",
       "      <td>Female</td>\n",
       "      <td>0</td>\n",
       "      <td>personal_vehicle</td>\n",
       "      <td>5</td>\n",
       "      <td>other</td>\n",
       "    </tr>\n",
       "    <tr>\n",
       "      <th>88</th>\n",
       "      <td>Female</td>\n",
       "      <td>0</td>\n",
       "      <td>personal_vehicle</td>\n",
       "      <td>4</td>\n",
       "      <td>black</td>\n",
       "    </tr>\n",
       "    <tr>\n",
       "      <th>100</th>\n",
       "      <td>Male</td>\n",
       "      <td>1</td>\n",
       "      <td>personal_vehicle</td>\n",
       "      <td>1</td>\n",
       "      <td>grey</td>\n",
       "    </tr>\n",
       "    <tr>\n",
       "      <th>40</th>\n",
       "      <td>Female</td>\n",
       "      <td>0</td>\n",
       "      <td>personal_vehicle</td>\n",
       "      <td>1</td>\n",
       "      <td>blonde</td>\n",
       "    </tr>\n",
       "  </tbody>\n",
       "</table>\n",
       "</div>"
      ],
      "text/plain": [
       "             gender  is_male    transportation  group_size hair_color\n",
       "customer_id                                                          \n",
       "53           Female        0  personal_vehicle           6       grey\n",
       "98           Female        0  personal_vehicle           5      other\n",
       "88           Female        0  personal_vehicle           4      black\n",
       "100            Male        1  personal_vehicle           1       grey\n",
       "40           Female        0  personal_vehicle           1     blonde"
      ]
     },
     "execution_count": 56,
     "metadata": {},
     "output_type": "execute_result"
    }
   ],
   "source": [
    "train [train.cluster == 'young_spending_above_their_means'].drop(columns=to_drop).head()"
   ]
  },
  {
   "cell_type": "code",
   "execution_count": null,
   "id": "8c54dd3e",
   "metadata": {},
   "outputs": [],
   "source": [
    "y_train1 = train.transportation"
   ]
  },
  {
   "cell_type": "markdown",
   "id": "dd841994",
   "metadata": {},
   "source": [
    "#### Model 2 - Old people who are low income and spend low amounts"
   ]
  },
  {
   "cell_type": "code",
   "execution_count": 57,
   "id": "f52c496d",
   "metadata": {},
   "outputs": [
    {
     "data": {
      "text/html": [
       "<div>\n",
       "<style scoped>\n",
       "    .dataframe tbody tr th:only-of-type {\n",
       "        vertical-align: middle;\n",
       "    }\n",
       "\n",
       "    .dataframe tbody tr th {\n",
       "        vertical-align: top;\n",
       "    }\n",
       "\n",
       "    .dataframe thead th {\n",
       "        text-align: right;\n",
       "    }\n",
       "</style>\n",
       "<table border=\"1\" class=\"dataframe\">\n",
       "  <thead>\n",
       "    <tr style=\"text-align: right;\">\n",
       "      <th></th>\n",
       "      <th>gender</th>\n",
       "      <th>is_male</th>\n",
       "      <th>transportation</th>\n",
       "      <th>group_size</th>\n",
       "      <th>hair_color</th>\n",
       "    </tr>\n",
       "    <tr>\n",
       "      <th>customer_id</th>\n",
       "      <th></th>\n",
       "      <th></th>\n",
       "      <th></th>\n",
       "      <th></th>\n",
       "      <th></th>\n",
       "    </tr>\n",
       "  </thead>\n",
       "  <tbody>\n",
       "    <tr>\n",
       "      <th>43</th>\n",
       "      <td>Male</td>\n",
       "      <td>1</td>\n",
       "      <td>personal_vehicle</td>\n",
       "      <td>8</td>\n",
       "      <td>black</td>\n",
       "    </tr>\n",
       "    <tr>\n",
       "      <th>117</th>\n",
       "      <td>Female</td>\n",
       "      <td>0</td>\n",
       "      <td>personal_vehicle</td>\n",
       "      <td>7</td>\n",
       "      <td>blonde</td>\n",
       "    </tr>\n",
       "    <tr>\n",
       "      <th>90</th>\n",
       "      <td>Female</td>\n",
       "      <td>0</td>\n",
       "      <td>personal_vehicle</td>\n",
       "      <td>4</td>\n",
       "      <td>black</td>\n",
       "    </tr>\n",
       "    <tr>\n",
       "      <th>35</th>\n",
       "      <td>Female</td>\n",
       "      <td>0</td>\n",
       "      <td>personal_vehicle</td>\n",
       "      <td>4</td>\n",
       "      <td>black</td>\n",
       "    </tr>\n",
       "    <tr>\n",
       "      <th>58</th>\n",
       "      <td>Male</td>\n",
       "      <td>1</td>\n",
       "      <td>personal_vehicle</td>\n",
       "      <td>6</td>\n",
       "      <td>black</td>\n",
       "    </tr>\n",
       "  </tbody>\n",
       "</table>\n",
       "</div>"
      ],
      "text/plain": [
       "             gender  is_male    transportation  group_size hair_color\n",
       "customer_id                                                          \n",
       "43             Male        1  personal_vehicle           8      black\n",
       "117          Female        0  personal_vehicle           7     blonde\n",
       "90           Female        0  personal_vehicle           4      black\n",
       "35           Female        0  personal_vehicle           4      black\n",
       "58             Male        1  personal_vehicle           6      black"
      ]
     },
     "execution_count": 57,
     "metadata": {},
     "output_type": "execute_result"
    }
   ],
   "source": [
    "train [train.cluster == 'old_poor_and_low_spending'].drop(columns=to_drop).head()"
   ]
  },
  {
   "cell_type": "code",
   "execution_count": null,
   "id": "33c6c10b",
   "metadata": {},
   "outputs": [],
   "source": [
    "y_train2 = train.transportation"
   ]
  },
  {
   "cell_type": "markdown",
   "id": "3f36128c",
   "metadata": {},
   "source": [
    "#### Model 3 - Young people who make a lot and spend a lot"
   ]
  },
  {
   "cell_type": "code",
   "execution_count": 58,
   "id": "2c9561d9",
   "metadata": {},
   "outputs": [
    {
     "data": {
      "text/html": [
       "<div>\n",
       "<style scoped>\n",
       "    .dataframe tbody tr th:only-of-type {\n",
       "        vertical-align: middle;\n",
       "    }\n",
       "\n",
       "    .dataframe tbody tr th {\n",
       "        vertical-align: top;\n",
       "    }\n",
       "\n",
       "    .dataframe thead th {\n",
       "        text-align: right;\n",
       "    }\n",
       "</style>\n",
       "<table border=\"1\" class=\"dataframe\">\n",
       "  <thead>\n",
       "    <tr style=\"text-align: right;\">\n",
       "      <th></th>\n",
       "      <th>gender</th>\n",
       "      <th>is_male</th>\n",
       "      <th>transportation</th>\n",
       "      <th>group_size</th>\n",
       "      <th>hair_color</th>\n",
       "    </tr>\n",
       "    <tr>\n",
       "      <th>customer_id</th>\n",
       "      <th></th>\n",
       "      <th></th>\n",
       "      <th></th>\n",
       "      <th></th>\n",
       "      <th></th>\n",
       "    </tr>\n",
       "  </thead>\n",
       "  <tbody>\n",
       "    <tr>\n",
       "      <th>198</th>\n",
       "      <td>Male</td>\n",
       "      <td>1</td>\n",
       "      <td>dropoff</td>\n",
       "      <td>5</td>\n",
       "      <td>blonde</td>\n",
       "    </tr>\n",
       "    <tr>\n",
       "      <th>160</th>\n",
       "      <td>Female</td>\n",
       "      <td>0</td>\n",
       "      <td>dropoff</td>\n",
       "      <td>8</td>\n",
       "      <td>other</td>\n",
       "    </tr>\n",
       "    <tr>\n",
       "      <th>156</th>\n",
       "      <td>Female</td>\n",
       "      <td>0</td>\n",
       "      <td>personal_vehicle</td>\n",
       "      <td>2</td>\n",
       "      <td>blonde</td>\n",
       "    </tr>\n",
       "    <tr>\n",
       "      <th>148</th>\n",
       "      <td>Female</td>\n",
       "      <td>0</td>\n",
       "      <td>personal_vehicle</td>\n",
       "      <td>5</td>\n",
       "      <td>grey</td>\n",
       "    </tr>\n",
       "    <tr>\n",
       "      <th>168</th>\n",
       "      <td>Female</td>\n",
       "      <td>0</td>\n",
       "      <td>personal_vehicle</td>\n",
       "      <td>5</td>\n",
       "      <td>other</td>\n",
       "    </tr>\n",
       "  </tbody>\n",
       "</table>\n",
       "</div>"
      ],
      "text/plain": [
       "             gender  is_male    transportation  group_size hair_color\n",
       "customer_id                                                          \n",
       "198            Male        1           dropoff           5     blonde\n",
       "160          Female        0           dropoff           8      other\n",
       "156          Female        0  personal_vehicle           2     blonde\n",
       "148          Female        0  personal_vehicle           5       grey\n",
       "168          Female        0  personal_vehicle           5      other"
      ]
     },
     "execution_count": 58,
     "metadata": {},
     "output_type": "execute_result"
    }
   ],
   "source": [
    "train [train.cluster == 'young_ballers'].drop(columns=to_drop).head()"
   ]
  },
  {
   "cell_type": "markdown",
   "id": "cca6f12f",
   "metadata": {},
   "source": [
    "#### Model 4 - Old people who make a lot and spend a little"
   ]
  },
  {
   "cell_type": "code",
   "execution_count": 59,
   "id": "307ab427",
   "metadata": {},
   "outputs": [
    {
     "data": {
      "text/html": [
       "<div>\n",
       "<style scoped>\n",
       "    .dataframe tbody tr th:only-of-type {\n",
       "        vertical-align: middle;\n",
       "    }\n",
       "\n",
       "    .dataframe tbody tr th {\n",
       "        vertical-align: top;\n",
       "    }\n",
       "\n",
       "    .dataframe thead th {\n",
       "        text-align: right;\n",
       "    }\n",
       "</style>\n",
       "<table border=\"1\" class=\"dataframe\">\n",
       "  <thead>\n",
       "    <tr style=\"text-align: right;\">\n",
       "      <th></th>\n",
       "      <th>gender</th>\n",
       "      <th>is_male</th>\n",
       "      <th>transportation</th>\n",
       "      <th>group_size</th>\n",
       "      <th>hair_color</th>\n",
       "    </tr>\n",
       "    <tr>\n",
       "      <th>customer_id</th>\n",
       "      <th></th>\n",
       "      <th></th>\n",
       "      <th></th>\n",
       "      <th></th>\n",
       "      <th></th>\n",
       "    </tr>\n",
       "  </thead>\n",
       "  <tbody>\n",
       "    <tr>\n",
       "      <th>151</th>\n",
       "      <td>Male</td>\n",
       "      <td>1</td>\n",
       "      <td>dropoff</td>\n",
       "      <td>4</td>\n",
       "      <td>other</td>\n",
       "    </tr>\n",
       "    <tr>\n",
       "      <th>165</th>\n",
       "      <td>Male</td>\n",
       "      <td>1</td>\n",
       "      <td>personal_vehicle</td>\n",
       "      <td>6</td>\n",
       "      <td>grey</td>\n",
       "    </tr>\n",
       "    <tr>\n",
       "      <th>177</th>\n",
       "      <td>Male</td>\n",
       "      <td>1</td>\n",
       "      <td>personal_vehicle</td>\n",
       "      <td>1</td>\n",
       "      <td>blonde</td>\n",
       "    </tr>\n",
       "    <tr>\n",
       "      <th>191</th>\n",
       "      <td>Female</td>\n",
       "      <td>0</td>\n",
       "      <td>personal_vehicle</td>\n",
       "      <td>4</td>\n",
       "      <td>grey</td>\n",
       "    </tr>\n",
       "    <tr>\n",
       "      <th>169</th>\n",
       "      <td>Female</td>\n",
       "      <td>0</td>\n",
       "      <td>personal_vehicle</td>\n",
       "      <td>7</td>\n",
       "      <td>other</td>\n",
       "    </tr>\n",
       "  </tbody>\n",
       "</table>\n",
       "</div>"
      ],
      "text/plain": [
       "             gender  is_male    transportation  group_size hair_color\n",
       "customer_id                                                          \n",
       "151            Male        1           dropoff           4      other\n",
       "165            Male        1  personal_vehicle           6       grey\n",
       "177            Male        1  personal_vehicle           1     blonde\n",
       "191          Female        0  personal_vehicle           4       grey\n",
       "169          Female        0  personal_vehicle           7      other"
      ]
     },
     "execution_count": 59,
     "metadata": {},
     "output_type": "execute_result"
    }
   ],
   "source": [
    "train [train.cluster == 'old_frugal'].drop(columns=to_drop).head()"
   ]
  },
  {
   "cell_type": "code",
   "execution_count": null,
   "id": "dd68d79a",
   "metadata": {},
   "outputs": [],
   "source": []
  }
 ],
 "metadata": {
  "kernelspec": {
   "display_name": "Python 3 (ipykernel)",
   "language": "python",
   "name": "python3"
  },
  "language_info": {
   "codemirror_mode": {
    "name": "ipython",
    "version": 3
   },
   "file_extension": ".py",
   "mimetype": "text/x-python",
   "name": "python",
   "nbconvert_exporter": "python",
   "pygments_lexer": "ipython3",
   "version": "3.9.12"
  }
 },
 "nbformat": 4,
 "nbformat_minor": 5
}
