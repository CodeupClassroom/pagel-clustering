{
 "cells": [
  {
   "cell_type": "markdown",
   "id": "dd929e76",
   "metadata": {},
   "source": [
    "# Using clusters"
   ]
  },
  {
   "cell_type": "markdown",
   "id": "2eb1ec72",
   "metadata": {},
   "source": [
    "what is it?\n",
    "- now that we have made our clusters, how do we use them?\n",
    "\n",
    "what do we care? \n",
    "- to get some usefulness out of our supervised learning"
   ]
  },
  {
   "cell_type": "markdown",
   "id": "2c3e0ed6",
   "metadata": {},
   "source": [
    "## Clusters are about providing options and insight\n",
    "\n",
    "- Step 1: Explore the clusters\n",
    "- Step 2: Name the clusters\n",
    "- Step 3: \n",
    "    - Option 1: Dimensionality reduction\n",
    "    - Option 2: Treat cluster names as a new target variable\n",
    "    - Option 3: Perform deeper EDA\n",
    "    - Option 4: Make many models"
   ]
  },
  {
   "cell_type": "markdown",
   "id": "3a407254",
   "metadata": {},
   "source": [
    "# Show us!"
   ]
  },
  {
   "cell_type": "markdown",
   "id": "1a4b7bf7",
   "metadata": {},
   "source": [
    "Scenario: Analyzing our mall data and seeing how unsupervised learning can drive our data insights"
   ]
  },
  {
   "cell_type": "code",
   "execution_count": null,
   "id": "19d80b5e",
   "metadata": {},
   "outputs": [],
   "source": [
    "#do the data things\n",
    "import pandas as pd\n",
    "import numpy as np\n",
    "\n",
    "#visualize & stastisize\n",
    "import seaborn as sns\n",
    "import matplotlib.pyplot as plt\n",
    "from scipy import stats\n",
    "\n",
    "#prepore and model\n",
    "from sklearn.model_selection import train_test_split\n",
    "from sklearn.preprocessing import MinMaxScaler\n",
    "from sklearn.cluster import KMeans\n",
    "\n",
    "#my creds\n",
    "from env import get_db_url"
   ]
  },
  {
   "cell_type": "markdown",
   "id": "40a03af9",
   "metadata": {},
   "source": [
    "## Acquire"
   ]
  },
  {
   "cell_type": "code",
   "execution_count": null,
   "id": "de7c2aa6",
   "metadata": {},
   "outputs": [],
   "source": [
    "#get my data\n",
    "df = pd.read_sql('SELECT * FROM customers;', get_db_url('mall_customers'))\n",
    "df = df.set_index('customer_id')\n",
    "\n",
    "#see it\n",
    "df.head()"
   ]
  },
  {
   "cell_type": "code",
   "execution_count": null,
   "id": "a6b22a37",
   "metadata": {},
   "outputs": [],
   "source": [
    "df.info()"
   ]
  },
  {
   "cell_type": "markdown",
   "id": "4146eb2b",
   "metadata": {},
   "source": [
    "## Prepare"
   ]
  },
  {
   "cell_type": "markdown",
   "id": "75310d91",
   "metadata": {},
   "source": [
    "Since my dataset was so small, I made my validate and test dataframes smaller than normal\n",
    "- this is probably too small to be utilized in the real world\n",
    "- the tiny validate and test are just to show the steps of working through a split df"
   ]
  },
  {
   "cell_type": "code",
   "execution_count": null,
   "id": "3cbc612f",
   "metadata": {},
   "outputs": [],
   "source": [
    "def train_validate_test_split(df, seed=123):\n",
    "    '''\n",
    "    accepts dataframe and splits the data into train, validate and test \n",
    "    '''\n",
    "    train_validate, test = train_test_split(df, test_size=0.05, random_state=seed)\n",
    "    train, validate = train_test_split(train_validate, test_size=0.05, random_state=seed)\n",
    "    return train, validate, test"
   ]
  },
  {
   "cell_type": "code",
   "execution_count": null,
   "id": "e06d2f62",
   "metadata": {},
   "outputs": [],
   "source": [
    "def scale_my_data(train, validate, test, features):\n",
    "    '''\n",
    "    scale my data using minmaxscaler, input the features to scale\n",
    "    '''\n",
    "    scaler = MinMaxScaler()\n",
    "    scaler.fit(train[features])\n",
    "    \n",
    "    train_scaled = scaler.transform(train[features])\n",
    "    validate_scaled = scaler.transform(validate[features])\n",
    "    test_scaled = scaler.transform(test[features])\n",
    "\n",
    "    train_scaled = pd.DataFrame(train_scaled, index=train.index, columns=features)\n",
    "    validate_scaled = pd.DataFrame(validate_scaled, index=validate.index, columns=features)\n",
    "    test_scaled = pd.DataFrame(test_scaled, index=test.index, columns=features)\n",
    "    \n",
    "    return train_scaled, validate_scaled, test_scaled"
   ]
  },
  {
   "cell_type": "code",
   "execution_count": null,
   "id": "2d044620",
   "metadata": {},
   "outputs": [],
   "source": [
    "def prep_mall(df):\n",
    "    '''\n",
    "    dummy var for gender into is_male\n",
    "    split on target of 'spending_score'\n",
    "    scale age and annual income. \n",
    "    '''\n",
    "#     df['is_male'] = pd.get_dummies(df['gender'], drop_first=True)['Male']\n",
    "    train, validate, test = train_validate_test_split(df)\n",
    "    \n",
    "    print(f'df: {df.shape}')\n",
    "    print()\n",
    "    print(f'train: {train.shape}')\n",
    "    print(f'validate: {validate.shape}')\n",
    "    print(f'test: {test.shape}')\n",
    "    return train, validate, test"
   ]
  },
  {
   "cell_type": "code",
   "execution_count": null,
   "id": "66c38b7d",
   "metadata": {},
   "outputs": [],
   "source": [
    "#prep my data!\n",
    "train, validate, test = prep_mall(df)"
   ]
  },
  {
   "cell_type": "code",
   "execution_count": null,
   "id": "3cc978ab",
   "metadata": {},
   "outputs": [],
   "source": [
    "train.head()"
   ]
  },
  {
   "cell_type": "code",
   "execution_count": null,
   "id": "1b825a0f",
   "metadata": {},
   "outputs": [],
   "source": [
    "features_to_scale = ['age','annual_income','spending_score']"
   ]
  },
  {
   "cell_type": "code",
   "execution_count": null,
   "id": "cc1dc04f",
   "metadata": {},
   "outputs": [],
   "source": [
    "train_scaled, validate_scaled, test_scaled = scale_my_data(train, validate, test, features_to_scale)\n",
    "train_scaled"
   ]
  },
  {
   "cell_type": "markdown",
   "id": "9234779b",
   "metadata": {},
   "source": [
    "## Explore"
   ]
  },
  {
   "cell_type": "markdown",
   "id": "45d9dd6c",
   "metadata": {},
   "source": [
    "We explored all the things!\n",
    "- hypothesize\n",
    "- visualize\n",
    "- statisticize\n",
    "- summarize\n",
    "\n",
    "We found that age, annual_income, and spending score looked like were good canidates for clusters. "
   ]
  },
  {
   "cell_type": "markdown",
   "id": "e05dd05b",
   "metadata": {},
   "source": [
    "We utilized the elbow method to determine the best number of clusters"
   ]
  },
  {
   "cell_type": "code",
   "execution_count": null,
   "id": "129c651d",
   "metadata": {},
   "outputs": [],
   "source": [
    "# lets plot inertia vs k\n",
    "pd.Series(\n",
    "    {k: KMeans(k, random_state=42, n_init=10).fit(train_scaled).inertia_ for k in range(2, 12)}).plot(marker='x')\n",
    "plt.xticks(range(2, 12))\n",
    "plt.xlabel('k')\n",
    "plt.ylabel('inertia')\n",
    "plt.title('Change in inertia as k increases')\n",
    "plt.grid()"
   ]
  },
  {
   "cell_type": "markdown",
   "id": "b8f99f12",
   "metadata": {},
   "source": [
    "#### Move forward optimal cluster number (i choose 4)"
   ]
  },
  {
   "cell_type": "code",
   "execution_count": null,
   "id": "152d0b70",
   "metadata": {},
   "outputs": [],
   "source": [
    "#make it\n",
    "kmeans = KMeans(n_clusters = 4, random_state=42, n_init=10)\n",
    "\n",
    "#fit it\n",
    "kmeans.fit(train_scaled)\n",
    "\n",
    "#use it\n",
    "kmeans.predict(train_scaled)"
   ]
  },
  {
   "cell_type": "markdown",
   "id": "21fb8422",
   "metadata": {},
   "source": [
    "#### Now save all of the newly created clusters"
   ]
  },
  {
   "cell_type": "code",
   "execution_count": null,
   "id": "9c8edc6d",
   "metadata": {},
   "outputs": [],
   "source": [
    "# And assign the cluster number to a column on the dataframe\n",
    "train_scaled[\"cluster\"] = kmeans.predict(train_scaled)\n",
    "train_scaled.head()"
   ]
  },
  {
   "cell_type": "markdown",
   "id": "b32c71e1",
   "metadata": {},
   "source": [
    "## Yay clusters! What next?\n",
    "\n",
    "- Step 1: Explore the clusters\n",
    "- Step 2: Name the clusters\n",
    "- Step 3: \n",
    "    - Option 1: Dimensionality reduction\n",
    "    - Option 2: Treat cluster names as a new target variable\n",
    "    - Option 3: Perform deeper EDA\n",
    "    - Option 4: Make many models"
   ]
  },
  {
   "cell_type": "markdown",
   "id": "9aa1589b",
   "metadata": {},
   "source": [
    "### Step 1: Explore the clusters\n",
    "\n",
    "see how they are similiar or different"
   ]
  },
  {
   "cell_type": "code",
   "execution_count": null,
   "id": "d065270f",
   "metadata": {},
   "outputs": [],
   "source": [
    "# plot out income vs. spending with regard to the cluster and age\n"
   ]
  },
  {
   "cell_type": "markdown",
   "id": "4d4ac5f6",
   "metadata": {},
   "source": [
    "### Step 2: Name the clusters \n",
    "\n",
    "use natural, descriptive language"
   ]
  },
  {
   "cell_type": "code",
   "execution_count": null,
   "id": "712ab8f6",
   "metadata": {},
   "outputs": [],
   "source": [
    "#rename using map\n"
   ]
  },
  {
   "cell_type": "markdown",
   "id": "8ebe36a8",
   "metadata": {},
   "source": [
    "### Step 3: Options"
   ]
  },
  {
   "cell_type": "markdown",
   "id": "83b74dfa",
   "metadata": {},
   "source": [
    "#### Let's say our mall dataset had more features in it, this will allow us to better utilize our clusters"
   ]
  },
  {
   "cell_type": "code",
   "execution_count": null,
   "id": "87b1dbcd",
   "metadata": {},
   "outputs": [],
   "source": [
    "train['transportation'] = np.random.choice(['personal_vehicle','walking','dropoff'],len(train),p=[.75,0.05,.2])\n",
    "train['group_size'] = np.random.randint(1,10,len(train))\n",
    "train['hair_color'] = np.random.choice(['black','brown','blonde','grey','other'],len(train))"
   ]
  },
  {
   "cell_type": "code",
   "execution_count": null,
   "id": "8d521c84",
   "metadata": {},
   "outputs": [],
   "source": [
    "train.head()"
   ]
  },
  {
   "cell_type": "markdown",
   "id": "cfd8daa0",
   "metadata": {},
   "source": [
    "### Option 1: Use the clusters to simplify multiple other variables\n",
    "- Since the cluster names make sense, we can use them instead of age, spending, and income\n",
    "    - this potentially makes our features simplier and easier to explain\n",
    "        - helpful for storytelling\n",
    "    - this allows us to reduce features\n",
    "        - likely help model performance (regression, classification)"
   ]
  },
  {
   "cell_type": "code",
   "execution_count": null,
   "id": "1aad46ee",
   "metadata": {},
   "outputs": [],
   "source": []
  },
  {
   "cell_type": "code",
   "execution_count": null,
   "id": "00d3bb2b",
   "metadata": {},
   "outputs": [],
   "source": []
  },
  {
   "cell_type": "markdown",
   "id": "8b8855d0",
   "metadata": {},
   "source": [
    "#### lets say we wanted to predict transportation"
   ]
  },
  {
   "cell_type": "code",
   "execution_count": null,
   "id": "d071c890",
   "metadata": {},
   "outputs": [],
   "source": []
  },
  {
   "cell_type": "markdown",
   "id": "a79b1747",
   "metadata": {},
   "source": [
    "we will now build a classification model since we have a target"
   ]
  },
  {
   "cell_type": "code",
   "execution_count": null,
   "id": "f7398900",
   "metadata": {},
   "outputs": [],
   "source": [
    "#define y_train\n"
   ]
  },
  {
   "cell_type": "markdown",
   "id": "fd989788",
   "metadata": {},
   "source": [
    "without our clusters"
   ]
  },
  {
   "cell_type": "code",
   "execution_count": null,
   "id": "7534b1af",
   "metadata": {},
   "outputs": [],
   "source": [
    "#define X_train\n"
   ]
  },
  {
   "cell_type": "markdown",
   "id": "694f9e7b",
   "metadata": {},
   "source": [
    "with our clusters"
   ]
  },
  {
   "cell_type": "code",
   "execution_count": null,
   "id": "56680840",
   "metadata": {},
   "outputs": [],
   "source": [
    "#define X_train\n"
   ]
  },
  {
   "cell_type": "markdown",
   "id": "5a60b401",
   "metadata": {},
   "source": [
    "### Option 2: Use cluster names as a target variable to classify new data"
   ]
  },
  {
   "cell_type": "code",
   "execution_count": null,
   "id": "fb2d30b3",
   "metadata": {},
   "outputs": [],
   "source": []
  },
  {
   "cell_type": "markdown",
   "id": "61b805e2",
   "metadata": {},
   "source": [
    "#### our new clusters can be our target variable"
   ]
  },
  {
   "cell_type": "markdown",
   "id": "f32cd4b8",
   "metadata": {},
   "source": [
    "we can once again build a classification model using our new target variable"
   ]
  },
  {
   "cell_type": "code",
   "execution_count": null,
   "id": "7414d0b2",
   "metadata": {},
   "outputs": [],
   "source": [
    "#define y_train\n"
   ]
  },
  {
   "cell_type": "markdown",
   "id": "1757ea71",
   "metadata": {},
   "source": [
    "#### our X_train can NOT include features that were used to calculate our target variable"
   ]
  },
  {
   "cell_type": "code",
   "execution_count": null,
   "id": "baed6dd0",
   "metadata": {},
   "outputs": [],
   "source": [
    "#define X_train\n"
   ]
  },
  {
   "cell_type": "markdown",
   "id": "d0fab9f1",
   "metadata": {},
   "source": [
    "### Option 3: Perform deeper EDA\n",
    "Sometimes the identification of clusters gives us additional questions we need to ask.\n",
    "- hypothesize\n",
    "- visualize\n",
    "- statisticize\n",
    "- summarize"
   ]
  },
  {
   "cell_type": "code",
   "execution_count": null,
   "id": "1f5bf93e",
   "metadata": {},
   "outputs": [],
   "source": []
  },
  {
   "cell_type": "markdown",
   "id": "3baea9d5",
   "metadata": {},
   "source": [
    "#### How do the customer groups relate to hair color?"
   ]
  },
  {
   "cell_type": "code",
   "execution_count": null,
   "id": "65ef7603",
   "metadata": {},
   "outputs": [],
   "source": []
  },
  {
   "cell_type": "code",
   "execution_count": null,
   "id": "b6444dab",
   "metadata": {},
   "outputs": [],
   "source": []
  },
  {
   "cell_type": "markdown",
   "id": "2e37b17e",
   "metadata": {},
   "source": [
    "#### How do the customer groups compare to the group size?"
   ]
  },
  {
   "cell_type": "code",
   "execution_count": null,
   "id": "77c05513",
   "metadata": {},
   "outputs": [],
   "source": []
  },
  {
   "cell_type": "markdown",
   "id": "c0c1dfc1",
   "metadata": {},
   "source": [
    "### Option 4: Create a Many Models Approach"
   ]
  },
  {
   "cell_type": "markdown",
   "id": "8d665d31",
   "metadata": {},
   "source": [
    "For each unique value in our cluster, build a separate model. Therefore, each cluser can have it's own model"
   ]
  },
  {
   "cell_type": "code",
   "execution_count": null,
   "id": "83c3660f",
   "metadata": {},
   "outputs": [],
   "source": []
  },
  {
   "cell_type": "markdown",
   "id": "979d130a",
   "metadata": {},
   "source": [
    "#### Model 1 -  Young people who are low income and spend a lot"
   ]
  },
  {
   "cell_type": "code",
   "execution_count": null,
   "id": "407bf1d8",
   "metadata": {},
   "outputs": [],
   "source": []
  },
  {
   "cell_type": "markdown",
   "id": "8b9c9e64",
   "metadata": {},
   "source": [
    "#### Model 2 - Old people who are low income and spend low amounts"
   ]
  },
  {
   "cell_type": "code",
   "execution_count": null,
   "id": "21c35771",
   "metadata": {},
   "outputs": [],
   "source": []
  },
  {
   "cell_type": "markdown",
   "id": "1b4be8c1",
   "metadata": {},
   "source": [
    "#### Model 3 - Young people who make a lot and spend a lot"
   ]
  },
  {
   "cell_type": "code",
   "execution_count": null,
   "id": "7cac633d",
   "metadata": {},
   "outputs": [],
   "source": []
  },
  {
   "cell_type": "markdown",
   "id": "5d8f3cfa",
   "metadata": {},
   "source": [
    "#### Model 4 - Old people who make a lot and spend a little"
   ]
  },
  {
   "cell_type": "code",
   "execution_count": null,
   "id": "27932792",
   "metadata": {},
   "outputs": [],
   "source": []
  },
  {
   "cell_type": "code",
   "execution_count": null,
   "id": "d841c1f6",
   "metadata": {},
   "outputs": [],
   "source": []
  }
 ],
 "metadata": {
  "kernelspec": {
   "display_name": "Python 3 (ipykernel)",
   "language": "python",
   "name": "python3"
  },
  "language_info": {
   "codemirror_mode": {
    "name": "ipython",
    "version": 3
   },
   "file_extension": ".py",
   "mimetype": "text/x-python",
   "name": "python",
   "nbconvert_exporter": "python",
   "pygments_lexer": "ipython3",
   "version": "3.9.12"
  }
 },
 "nbformat": 4,
 "nbformat_minor": 5
}
